{
  "nbformat": 4,
  "nbformat_minor": 0,
  "metadata": {
    "kernelspec": {
      "display_name": "Python 3",
      "language": "python",
      "name": "python3"
    },
    "language_info": {
      "codemirror_mode": {
        "name": "ipython",
        "version": 3
      },
      "file_extension": ".py",
      "mimetype": "text/x-python",
      "name": "python",
      "nbconvert_exporter": "python",
      "pygments_lexer": "ipython3",
      "version": "3.7.3"
    },
    "toc": {
      "nav_menu": {},
      "number_sections": true,
      "sideBar": true,
      "skip_h1_title": false,
      "title_cell": "Table of Contents",
      "title_sidebar": "Contents",
      "toc_cell": false,
      "toc_position": {},
      "toc_section_display": true,
      "toc_window_display": false
    },
    "varInspector": {
      "cols": {
        "lenName": 16,
        "lenType": 16,
        "lenVar": 40
      },
      "kernels_config": {
        "python": {
          "delete_cmd_postfix": "",
          "delete_cmd_prefix": "del ",
          "library": "var_list.py",
          "varRefreshCmd": "print(var_dic_list())"
        },
        "r": {
          "delete_cmd_postfix": ") ",
          "delete_cmd_prefix": "rm(",
          "library": "var_list.r",
          "varRefreshCmd": "cat(var_dic_list()) "
        }
      },
      "types_to_exclude": [
        "module",
        "function",
        "builtin_function_or_method",
        "instance",
        "_Feature"
      ],
      "window_display": false
    },
    "colab": {
      "name": "Transformer CTC.ipynb",
      "provenance": [],
      "collapsed_sections": [
        "FbymIyFhY1Dc",
        "RlXF0FRMY1De",
        "WQnQIOm-Y1Dg",
        "lXum5EgdY1Dh",
        "jkuiYTb3Y1Dk",
        "mTXTWgIOY1Dm",
        "2qwiuKHSY1Dp",
        "SiBV44AXY1Dp",
        "9OXCnHqEY1Dp",
        "3U_g3-wrY1Dq",
        "CwSKmwgXY1Dq",
        "swNWmpr6Y1Dr"
      ],
      "include_colab_link": true
    },
    "accelerator": "GPU",
    "widgets": {
      "application/vnd.jupyter.widget-state+json": {
        "f57a0cad58f547778ec4af0f698e1d59": {
          "model_module": "@jupyter-widgets/controls",
          "model_name": "HBoxModel",
          "model_module_version": "1.5.0",
          "state": {
            "_view_name": "HBoxView",
            "_dom_classes": [],
            "_model_name": "HBoxModel",
            "_view_module": "@jupyter-widgets/controls",
            "_model_module_version": "1.5.0",
            "_view_count": null,
            "_view_module_version": "1.5.0",
            "box_style": "",
            "layout": "IPY_MODEL_f9ad7c764e734e989942e25b6a582bf1",
            "_model_module": "@jupyter-widgets/controls",
            "children": [
              "IPY_MODEL_3057c04621a4486b93533abf5327bc97",
              "IPY_MODEL_6609dd6a745d45e88974a2d6fc383dcb",
              "IPY_MODEL_ff1822d117ed47d6baf2dff2403f958e"
            ]
          }
        },
        "f9ad7c764e734e989942e25b6a582bf1": {
          "model_module": "@jupyter-widgets/base",
          "model_name": "LayoutModel",
          "model_module_version": "1.2.0",
          "state": {
            "_view_name": "LayoutView",
            "grid_template_rows": null,
            "right": null,
            "justify_content": null,
            "_view_module": "@jupyter-widgets/base",
            "overflow": null,
            "_model_module_version": "1.2.0",
            "_view_count": null,
            "flex_flow": null,
            "width": null,
            "min_width": null,
            "border": null,
            "align_items": null,
            "bottom": null,
            "_model_module": "@jupyter-widgets/base",
            "top": null,
            "grid_column": null,
            "overflow_y": null,
            "overflow_x": null,
            "grid_auto_flow": null,
            "grid_area": null,
            "grid_template_columns": null,
            "flex": null,
            "_model_name": "LayoutModel",
            "justify_items": null,
            "grid_row": null,
            "max_height": null,
            "align_content": null,
            "visibility": null,
            "align_self": null,
            "height": null,
            "min_height": null,
            "padding": null,
            "grid_auto_rows": null,
            "grid_gap": null,
            "max_width": null,
            "order": null,
            "_view_module_version": "1.2.0",
            "grid_template_areas": null,
            "object_position": null,
            "object_fit": null,
            "grid_auto_columns": null,
            "margin": null,
            "display": null,
            "left": null
          }
        },
        "3057c04621a4486b93533abf5327bc97": {
          "model_module": "@jupyter-widgets/controls",
          "model_name": "HTMLModel",
          "model_module_version": "1.5.0",
          "state": {
            "_view_name": "HTMLView",
            "style": "IPY_MODEL_cc1806d8abc44cdb9c181e4c15fbac7f",
            "_dom_classes": [],
            "description": "",
            "_model_name": "HTMLModel",
            "placeholder": "​",
            "_view_module": "@jupyter-widgets/controls",
            "_model_module_version": "1.5.0",
            "value": "100%",
            "_view_count": null,
            "_view_module_version": "1.5.0",
            "description_tooltip": null,
            "_model_module": "@jupyter-widgets/controls",
            "layout": "IPY_MODEL_93d93387e3d74f80b64ac90b9b83f898"
          }
        },
        "6609dd6a745d45e88974a2d6fc383dcb": {
          "model_module": "@jupyter-widgets/controls",
          "model_name": "FloatProgressModel",
          "model_module_version": "1.5.0",
          "state": {
            "_view_name": "ProgressView",
            "style": "IPY_MODEL_581685aa4be54b4ab76d01b26af00eb6",
            "_dom_classes": [],
            "description": "",
            "_model_name": "FloatProgressModel",
            "bar_style": "success",
            "max": 46830571,
            "_view_module": "@jupyter-widgets/controls",
            "_model_module_version": "1.5.0",
            "value": 46830571,
            "_view_count": null,
            "_view_module_version": "1.5.0",
            "orientation": "horizontal",
            "min": 0,
            "description_tooltip": null,
            "_model_module": "@jupyter-widgets/controls",
            "layout": "IPY_MODEL_9653a4378bf848ce87dad02cc4b226ab"
          }
        },
        "ff1822d117ed47d6baf2dff2403f958e": {
          "model_module": "@jupyter-widgets/controls",
          "model_name": "HTMLModel",
          "model_module_version": "1.5.0",
          "state": {
            "_view_name": "HTMLView",
            "style": "IPY_MODEL_5596bf115a654f0b86e31ecad8681dcf",
            "_dom_classes": [],
            "description": "",
            "_model_name": "HTMLModel",
            "placeholder": "​",
            "_view_module": "@jupyter-widgets/controls",
            "_model_module_version": "1.5.0",
            "value": " 44.7M/44.7M [00:03&lt;00:00, 17.1MB/s]",
            "_view_count": null,
            "_view_module_version": "1.5.0",
            "description_tooltip": null,
            "_model_module": "@jupyter-widgets/controls",
            "layout": "IPY_MODEL_4b98d7332cc24c8b8c74e2442a48c519"
          }
        },
        "cc1806d8abc44cdb9c181e4c15fbac7f": {
          "model_module": "@jupyter-widgets/controls",
          "model_name": "DescriptionStyleModel",
          "model_module_version": "1.5.0",
          "state": {
            "_view_name": "StyleView",
            "_model_name": "DescriptionStyleModel",
            "description_width": "",
            "_view_module": "@jupyter-widgets/base",
            "_model_module_version": "1.5.0",
            "_view_count": null,
            "_view_module_version": "1.2.0",
            "_model_module": "@jupyter-widgets/controls"
          }
        },
        "93d93387e3d74f80b64ac90b9b83f898": {
          "model_module": "@jupyter-widgets/base",
          "model_name": "LayoutModel",
          "model_module_version": "1.2.0",
          "state": {
            "_view_name": "LayoutView",
            "grid_template_rows": null,
            "right": null,
            "justify_content": null,
            "_view_module": "@jupyter-widgets/base",
            "overflow": null,
            "_model_module_version": "1.2.0",
            "_view_count": null,
            "flex_flow": null,
            "width": null,
            "min_width": null,
            "border": null,
            "align_items": null,
            "bottom": null,
            "_model_module": "@jupyter-widgets/base",
            "top": null,
            "grid_column": null,
            "overflow_y": null,
            "overflow_x": null,
            "grid_auto_flow": null,
            "grid_area": null,
            "grid_template_columns": null,
            "flex": null,
            "_model_name": "LayoutModel",
            "justify_items": null,
            "grid_row": null,
            "max_height": null,
            "align_content": null,
            "visibility": null,
            "align_self": null,
            "height": null,
            "min_height": null,
            "padding": null,
            "grid_auto_rows": null,
            "grid_gap": null,
            "max_width": null,
            "order": null,
            "_view_module_version": "1.2.0",
            "grid_template_areas": null,
            "object_position": null,
            "object_fit": null,
            "grid_auto_columns": null,
            "margin": null,
            "display": null,
            "left": null
          }
        },
        "581685aa4be54b4ab76d01b26af00eb6": {
          "model_module": "@jupyter-widgets/controls",
          "model_name": "ProgressStyleModel",
          "model_module_version": "1.5.0",
          "state": {
            "_view_name": "StyleView",
            "_model_name": "ProgressStyleModel",
            "description_width": "",
            "_view_module": "@jupyter-widgets/base",
            "_model_module_version": "1.5.0",
            "_view_count": null,
            "_view_module_version": "1.2.0",
            "bar_color": null,
            "_model_module": "@jupyter-widgets/controls"
          }
        },
        "9653a4378bf848ce87dad02cc4b226ab": {
          "model_module": "@jupyter-widgets/base",
          "model_name": "LayoutModel",
          "model_module_version": "1.2.0",
          "state": {
            "_view_name": "LayoutView",
            "grid_template_rows": null,
            "right": null,
            "justify_content": null,
            "_view_module": "@jupyter-widgets/base",
            "overflow": null,
            "_model_module_version": "1.2.0",
            "_view_count": null,
            "flex_flow": null,
            "width": null,
            "min_width": null,
            "border": null,
            "align_items": null,
            "bottom": null,
            "_model_module": "@jupyter-widgets/base",
            "top": null,
            "grid_column": null,
            "overflow_y": null,
            "overflow_x": null,
            "grid_auto_flow": null,
            "grid_area": null,
            "grid_template_columns": null,
            "flex": null,
            "_model_name": "LayoutModel",
            "justify_items": null,
            "grid_row": null,
            "max_height": null,
            "align_content": null,
            "visibility": null,
            "align_self": null,
            "height": null,
            "min_height": null,
            "padding": null,
            "grid_auto_rows": null,
            "grid_gap": null,
            "max_width": null,
            "order": null,
            "_view_module_version": "1.2.0",
            "grid_template_areas": null,
            "object_position": null,
            "object_fit": null,
            "grid_auto_columns": null,
            "margin": null,
            "display": null,
            "left": null
          }
        },
        "5596bf115a654f0b86e31ecad8681dcf": {
          "model_module": "@jupyter-widgets/controls",
          "model_name": "DescriptionStyleModel",
          "model_module_version": "1.5.0",
          "state": {
            "_view_name": "StyleView",
            "_model_name": "DescriptionStyleModel",
            "description_width": "",
            "_view_module": "@jupyter-widgets/base",
            "_model_module_version": "1.5.0",
            "_view_count": null,
            "_view_module_version": "1.2.0",
            "_model_module": "@jupyter-widgets/controls"
          }
        },
        "4b98d7332cc24c8b8c74e2442a48c519": {
          "model_module": "@jupyter-widgets/base",
          "model_name": "LayoutModel",
          "model_module_version": "1.2.0",
          "state": {
            "_view_name": "LayoutView",
            "grid_template_rows": null,
            "right": null,
            "justify_content": null,
            "_view_module": "@jupyter-widgets/base",
            "overflow": null,
            "_model_module_version": "1.2.0",
            "_view_count": null,
            "flex_flow": null,
            "width": null,
            "min_width": null,
            "border": null,
            "align_items": null,
            "bottom": null,
            "_model_module": "@jupyter-widgets/base",
            "top": null,
            "grid_column": null,
            "overflow_y": null,
            "overflow_x": null,
            "grid_auto_flow": null,
            "grid_area": null,
            "grid_template_columns": null,
            "flex": null,
            "_model_name": "LayoutModel",
            "justify_items": null,
            "grid_row": null,
            "max_height": null,
            "align_content": null,
            "visibility": null,
            "align_self": null,
            "height": null,
            "min_height": null,
            "padding": null,
            "grid_auto_rows": null,
            "grid_gap": null,
            "max_width": null,
            "order": null,
            "_view_module_version": "1.2.0",
            "grid_template_areas": null,
            "object_position": null,
            "object_fit": null,
            "grid_auto_columns": null,
            "margin": null,
            "display": null,
            "left": null
          }
        }
      }
    }
  },
  "cells": [
    {
      "cell_type": "markdown",
      "metadata": {
        "id": "view-in-github",
        "colab_type": "text"
      },
      "source": [
        "<a href=\"https://colab.research.google.com/github/ivaylojelev/fastai1/blob/master/Transformer_CTC.ipynb\" target=\"_parent\"><img src=\"https://colab.research.google.com/assets/colab-badge.svg\" alt=\"Open In Colab\"/></a>"
      ]
    },
    {
      "cell_type": "markdown",
      "metadata": {
        "id": "LDSbmbNcY1DV"
      },
      "source": [
        "# Prelims"
      ]
    },
    {
      "cell_type": "code",
      "metadata": {
        "ExecuteTime": {},
        "heading_collapsed": true,
        "hidden": true,
        "id": "xuvxfPzaY1DX"
      },
      "source": [
        "%matplotlib inline\n",
        "%reload_ext autoreload\n",
        "%autoreload 2"
      ],
      "execution_count": 2,
      "outputs": []
    },
    {
      "cell_type": "code",
      "metadata": {
        "ExecuteTime": {},
        "heading_collapsed": true,
        "hidden": true,
        "id": "6A129th_Y1DY"
      },
      "source": [
        "from fastai import *\n",
        "from fastai.vision import *\n",
        "from fastai.text import *\n",
        "from fastai.callbacks.tracker import *"
      ],
      "execution_count": 3,
      "outputs": []
    },
    {
      "cell_type": "code",
      "metadata": {
        "ExecuteTime": {},
        "heading_collapsed": true,
        "hidden": true,
        "id": "al4QPI7yY1DY"
      },
      "source": [
        "PATH = Path('drive/MyDrive/Thesis/data/iam')"
      ],
      "execution_count": 4,
      "outputs": []
    },
    {
      "cell_type": "code",
      "metadata": {
        "ExecuteTime": {},
        "heading_collapsed": true,
        "hidden": true,
        "colab": {
          "base_uri": "https://localhost:8080/"
        },
        "id": "uMfjZWDWY1DY",
        "outputId": "c4f07ac4-93fc-45f0-c5c2-8e281df98261"
      },
      "source": [
        "device = torch.device('cuda' if torch.cuda.is_available() else 'cpu')\n",
        "device"
      ],
      "execution_count": 5,
      "outputs": [
        {
          "output_type": "execute_result",
          "data": {
            "text/plain": [
              "device(type='cuda')"
            ]
          },
          "metadata": {},
          "execution_count": 5
        }
      ]
    },
    {
      "cell_type": "markdown",
      "metadata": {
        "id": "XkZY8PKXY1DZ"
      },
      "source": [
        "## Helpers"
      ]
    },
    {
      "cell_type": "code",
      "metadata": {
        "ExecuteTime": {},
        "heading_collapsed": true,
        "hidden": true,
        "id": "m-1dLA3YY1DZ"
      },
      "source": [
        "def show_img(im, figsize=None, ax=None, alpha=None, title=None):\n",
        "    if not ax: fig,ax = plt.subplots(figsize=figsize)\n",
        "    ax.imshow(image2np(im.data), alpha=alpha)\n",
        "    if title: ax.set_title(title)\n",
        "    return ax"
      ],
      "execution_count": 6,
      "outputs": []
    },
    {
      "cell_type": "code",
      "metadata": {
        "ExecuteTime": {},
        "heading_collapsed": true,
        "hidden": true,
        "id": "t8vyfuTJY1DZ"
      },
      "source": [
        "def rshift(tgt, bos_token=1):\n",
        "    \"Shift y to the right by prepending token\"\n",
        "    bos = torch.zeros((tgt.size(0),1), device=device).type_as(tgt) + bos_token\n",
        "    return torch.cat((bos, tgt[:,:-1]), dim=-1)\n",
        "\n",
        "def subsequent_mask(size):\n",
        "    return torch.tril(torch.ones((1,size,size), device=device).byte())"
      ],
      "execution_count": 7,
      "outputs": []
    },
    {
      "cell_type": "markdown",
      "metadata": {
        "id": "3liijsl3Y1DZ"
      },
      "source": [
        "## Loss, Metrics, Callbacks"
      ]
    },
    {
      "cell_type": "code",
      "metadata": {
        "ExecuteTime": {},
        "heading_collapsed": true,
        "hidden": true,
        "id": "WhHf5VckY1Da"
      },
      "source": [
        "class LabelSmoothing(nn.Module):\n",
        "    def __init__(self, smoothing=0.1):\n",
        "        super(LabelSmoothing, self).__init__()\n",
        "        self.confidence = 1.0 - smoothing\n",
        "        self.smoothing = smoothing\n",
        "        \n",
        "    def forward(self, pred, target):\n",
        "        pred,targ = self.loss_prep(pred, target)\n",
        "        pred = F.log_softmax(pred, dim=-1)        # necessary for KLDivLoss\n",
        "        true_dist = pred.data.clone()\n",
        "        true_dist.fill_(self.smoothing / pred.size(1)) \n",
        "        print(true_dist)  \n",
        "        print(targ.shape)      \n",
        "        true_dist.scatter_(1, targ.data.unsqueeze(1), self.confidence)  # [0.0012, 0.0012, 0.90, 0.0012]\n",
        "        return F.kl_div(pred, true_dist, reduction='sum')/bs\n",
        "    \n",
        "    def loss_prep(self, pred, target):\n",
        "        \"equalize input/target sl; combine bs/sl dimensions\"\n",
        "        bs,tsl = target.shape\n",
        "        _ ,sl,vocab = pred.shape\n",
        "\n",
        "        # F.pad( front,back for dimensions: 1,0,2 )\n",
        "        if sl>tsl: target = F.pad(target, (0,sl-tsl))\n",
        "        if tsl>sl: pred = F.pad(pred, (0,0,0,tsl-sl))\n",
        "\n",
        "        targ = target.contiguous().view(-1).long()\n",
        "        pred = pred.contiguous().view(-1, vocab)\n",
        "        return pred, targ"
      ],
      "execution_count": 8,
      "outputs": []
    },
    {
      "cell_type": "code",
      "metadata": {
        "colab": {
          "base_uri": "https://localhost:8080/"
        },
        "id": "2gDGEwMkcGnb",
        "outputId": "59383738-c999-4bcd-cdc7-20f82ae8ed9f"
      },
      "source": [
        "!pip install Levenshtein"
      ],
      "execution_count": 9,
      "outputs": [
        {
          "output_type": "stream",
          "name": "stdout",
          "text": [
            "Collecting Levenshtein\n",
            "  Downloading Levenshtein-0.16.0-cp37-cp37m-manylinux_2_5_x86_64.manylinux1_x86_64.manylinux_2_12_x86_64.manylinux2010_x86_64.whl (110 kB)\n",
            "\u001b[K     |████████████████████████████████| 110 kB 5.3 MB/s \n",
            "\u001b[?25hCollecting rapidfuzz<1.9,>=1.8.2\n",
            "  Downloading rapidfuzz-1.8.2-cp37-cp37m-manylinux_2_12_x86_64.manylinux2010_x86_64.whl (1.6 MB)\n",
            "\u001b[K     |████████████████████████████████| 1.6 MB 42.8 MB/s \n",
            "\u001b[?25hInstalling collected packages: rapidfuzz, Levenshtein\n",
            "Successfully installed Levenshtein-0.16.0 rapidfuzz-1.8.2\n"
          ]
        }
      ]
    },
    {
      "cell_type": "code",
      "metadata": {
        "ExecuteTime": {},
        "heading_collapsed": true,
        "hidden": true,
        "id": "bl6q0W62Y1Da"
      },
      "source": [
        "import Levenshtein as Lev\n",
        "\n",
        "class CER(Callback):\n",
        "    def __init__(self, fn):\n",
        "        super().__init__()\n",
        "        self.name = 'cer'\n",
        "        self.fn = fn\n",
        "\n",
        "    def on_epoch_begin(self, **kwargs):\n",
        "        self.errors, self.total = 0, 0\n",
        "    \n",
        "    def on_batch_end(self, last_output, last_target, **kwargs):\n",
        "        error,size = cer(last_output, last_target, self.fn)\n",
        "        self.errors += error\n",
        "        self.total += size\n",
        "    \n",
        "    def on_epoch_end(self, last_metrics, **kwargs):\n",
        "        return add_metrics(last_metrics, self.errors/self.total)"
      ],
      "execution_count": 10,
      "outputs": []
    },
    {
      "cell_type": "code",
      "metadata": {
        "ExecuteTime": {},
        "heading_collapsed": true,
        "hidden": true,
        "id": "9-VXW2QmY1Da"
      },
      "source": [
        "def cer(preds, targs, fn):\n",
        "    bs = targs.size(0)\n",
        "    res = torch.argmax(preds, dim=-1)\n",
        "    error = 0\n",
        "    for i in range(bs):\n",
        "        p = str(fn(res[i]))\n",
        "        t = str(fn(targs[i]))\n",
        "        error += Lev.distance(t, p)/(len(t) or 1)\n",
        "    return error, bs"
      ],
      "execution_count": 11,
      "outputs": []
    },
    {
      "cell_type": "code",
      "metadata": {
        "ExecuteTime": {},
        "heading_collapsed": true,
        "hidden": true,
        "id": "JWWPCsWOY1Db"
      },
      "source": [
        "class TeacherForce(LearnerCallback):\n",
        "    def __init__(self, learn:Learner):\n",
        "        super().__init__(learn)\n",
        "        \n",
        "    def on_batch_begin(self, last_input, last_target, **kwargs):\n",
        "        return {'last_input':(last_input, last_target), 'last_target':last_target}"
      ],
      "execution_count": 12,
      "outputs": []
    },
    {
      "cell_type": "markdown",
      "metadata": {
        "id": "PUTiJwC3Y1Db"
      },
      "source": [
        "# Data"
      ]
    },
    {
      "cell_type": "markdown",
      "metadata": {
        "id": "6CN3pkJZY1Db"
      },
      "source": [
        "## word combo"
      ]
    },
    {
      "cell_type": "code",
      "metadata": {
        "id": "phIf6RVSZfRW",
        "colab": {
          "base_uri": "https://localhost:8080/"
        },
        "outputId": "85bb9e8a-8471-4e07-c6fc-5f4ab29259a2"
      },
      "source": [
        "from google.colab import drive\n",
        "drive.mount('/content/drive')"
      ],
      "execution_count": 13,
      "outputs": [
        {
          "output_type": "stream",
          "name": "stdout",
          "text": [
            "Mounted at /content/drive\n"
          ]
        }
      ]
    },
    {
      "cell_type": "code",
      "metadata": {
        "ExecuteTime": {},
        "heading_collapsed": true,
        "hidden": true,
        "id": "uURddYrmY1Db",
        "colab": {
          "base_uri": "https://localhost:8080/"
        },
        "outputId": "bb1b4cbe-df51-4b49-c8d1-b70b456f765c"
      },
      "source": [
        "fname = 'dataset_short.csv'\n",
        "CSV = PATH/fname\n",
        "FOLDER = 'lines'\n",
        "\n",
        "df = pd.read_csv(CSV, delimiter = ' ')\n",
        "len(df)"
      ],
      "execution_count": 14,
      "outputs": [
        {
          "output_type": "execute_result",
          "data": {
            "text/plain": [
              "526"
            ]
          },
          "metadata": {},
          "execution_count": 14
        }
      ]
    },
    {
      "cell_type": "code",
      "metadata": {
        "ExecuteTime": {},
        "heading_collapsed": true,
        "hidden": true,
        "id": "6KWwKzdoY1Dc"
      },
      "source": [
        "sz,bs = 512,50\n",
        "seq_len,word_len = 100,50"
      ],
      "execution_count": 15,
      "outputs": []
    },
    {
      "cell_type": "markdown",
      "metadata": {
        "heading_collapsed": true,
        "id": "FbymIyFhY1Dc"
      },
      "source": [
        "## font generated"
      ]
    },
    {
      "cell_type": "code",
      "metadata": {
        "ExecuteTime": {},
        "heading_collapsed": true,
        "hidden": true,
        "id": "XPu13tEpY1Dc"
      },
      "source": [
        "#font generated\n",
        "fname = 'font_mix_129k.csv'\n",
        "FOLDER = 'combo_cat'"
      ],
      "execution_count": 16,
      "outputs": []
    },
    {
      "cell_type": "code",
      "metadata": {
        "ExecuteTime": {},
        "heading_collapsed": true,
        "hidden": true,
        "id": "OZ8IaX2RY1Dc",
        "colab": {
          "base_uri": "https://localhost:8080/",
          "height": 450
        },
        "outputId": "56507aa3-63e1-4c3b-c093-a7da6aaae49b"
      },
      "source": [
        "CSV = PATH/fname\n",
        "df = pd.read_csv(CSV)\n",
        "\n",
        "sz,bs = 512,15\n",
        "seq_len,word_len = 750,300\n",
        "len(df)"
      ],
      "execution_count": 17,
      "outputs": [
        {
          "output_type": "error",
          "ename": "FileNotFoundError",
          "evalue": "ignored",
          "traceback": [
            "\u001b[0;31m---------------------------------------------------------------------------\u001b[0m",
            "\u001b[0;31mFileNotFoundError\u001b[0m                         Traceback (most recent call last)",
            "\u001b[0;32m<ipython-input-17-3af81dfd5ce7>\u001b[0m in \u001b[0;36m<module>\u001b[0;34m()\u001b[0m\n\u001b[1;32m      1\u001b[0m \u001b[0mCSV\u001b[0m \u001b[0;34m=\u001b[0m \u001b[0mPATH\u001b[0m\u001b[0;34m/\u001b[0m\u001b[0mfname\u001b[0m\u001b[0;34m\u001b[0m\u001b[0;34m\u001b[0m\u001b[0m\n\u001b[0;32m----> 2\u001b[0;31m \u001b[0mdf\u001b[0m \u001b[0;34m=\u001b[0m \u001b[0mpd\u001b[0m\u001b[0;34m.\u001b[0m\u001b[0mread_csv\u001b[0m\u001b[0;34m(\u001b[0m\u001b[0mCSV\u001b[0m\u001b[0;34m)\u001b[0m\u001b[0;34m\u001b[0m\u001b[0;34m\u001b[0m\u001b[0m\n\u001b[0m\u001b[1;32m      3\u001b[0m \u001b[0;34m\u001b[0m\u001b[0m\n\u001b[1;32m      4\u001b[0m \u001b[0msz\u001b[0m\u001b[0;34m,\u001b[0m\u001b[0mbs\u001b[0m \u001b[0;34m=\u001b[0m \u001b[0;36m512\u001b[0m\u001b[0;34m,\u001b[0m\u001b[0;36m15\u001b[0m\u001b[0;34m\u001b[0m\u001b[0;34m\u001b[0m\u001b[0m\n\u001b[1;32m      5\u001b[0m \u001b[0mseq_len\u001b[0m\u001b[0;34m,\u001b[0m\u001b[0mword_len\u001b[0m \u001b[0;34m=\u001b[0m \u001b[0;36m750\u001b[0m\u001b[0;34m,\u001b[0m\u001b[0;36m300\u001b[0m\u001b[0;34m\u001b[0m\u001b[0;34m\u001b[0m\u001b[0m\n",
            "\u001b[0;32m/usr/local/lib/python3.7/dist-packages/pandas/io/parsers.py\u001b[0m in \u001b[0;36mread_csv\u001b[0;34m(filepath_or_buffer, sep, delimiter, header, names, index_col, usecols, squeeze, prefix, mangle_dupe_cols, dtype, engine, converters, true_values, false_values, skipinitialspace, skiprows, skipfooter, nrows, na_values, keep_default_na, na_filter, verbose, skip_blank_lines, parse_dates, infer_datetime_format, keep_date_col, date_parser, dayfirst, cache_dates, iterator, chunksize, compression, thousands, decimal, lineterminator, quotechar, quoting, doublequote, escapechar, comment, encoding, dialect, error_bad_lines, warn_bad_lines, delim_whitespace, low_memory, memory_map, float_precision)\u001b[0m\n\u001b[1;32m    686\u001b[0m     )\n\u001b[1;32m    687\u001b[0m \u001b[0;34m\u001b[0m\u001b[0m\n\u001b[0;32m--> 688\u001b[0;31m     \u001b[0;32mreturn\u001b[0m \u001b[0m_read\u001b[0m\u001b[0;34m(\u001b[0m\u001b[0mfilepath_or_buffer\u001b[0m\u001b[0;34m,\u001b[0m \u001b[0mkwds\u001b[0m\u001b[0;34m)\u001b[0m\u001b[0;34m\u001b[0m\u001b[0;34m\u001b[0m\u001b[0m\n\u001b[0m\u001b[1;32m    689\u001b[0m \u001b[0;34m\u001b[0m\u001b[0m\n\u001b[1;32m    690\u001b[0m \u001b[0;34m\u001b[0m\u001b[0m\n",
            "\u001b[0;32m/usr/local/lib/python3.7/dist-packages/pandas/io/parsers.py\u001b[0m in \u001b[0;36m_read\u001b[0;34m(filepath_or_buffer, kwds)\u001b[0m\n\u001b[1;32m    452\u001b[0m \u001b[0;34m\u001b[0m\u001b[0m\n\u001b[1;32m    453\u001b[0m     \u001b[0;31m# Create the parser.\u001b[0m\u001b[0;34m\u001b[0m\u001b[0;34m\u001b[0m\u001b[0;34m\u001b[0m\u001b[0m\n\u001b[0;32m--> 454\u001b[0;31m     \u001b[0mparser\u001b[0m \u001b[0;34m=\u001b[0m \u001b[0mTextFileReader\u001b[0m\u001b[0;34m(\u001b[0m\u001b[0mfp_or_buf\u001b[0m\u001b[0;34m,\u001b[0m \u001b[0;34m**\u001b[0m\u001b[0mkwds\u001b[0m\u001b[0;34m)\u001b[0m\u001b[0;34m\u001b[0m\u001b[0;34m\u001b[0m\u001b[0m\n\u001b[0m\u001b[1;32m    455\u001b[0m \u001b[0;34m\u001b[0m\u001b[0m\n\u001b[1;32m    456\u001b[0m     \u001b[0;32mif\u001b[0m \u001b[0mchunksize\u001b[0m \u001b[0;32mor\u001b[0m \u001b[0miterator\u001b[0m\u001b[0;34m:\u001b[0m\u001b[0;34m\u001b[0m\u001b[0;34m\u001b[0m\u001b[0m\n",
            "\u001b[0;32m/usr/local/lib/python3.7/dist-packages/pandas/io/parsers.py\u001b[0m in \u001b[0;36m__init__\u001b[0;34m(self, f, engine, **kwds)\u001b[0m\n\u001b[1;32m    946\u001b[0m             \u001b[0mself\u001b[0m\u001b[0;34m.\u001b[0m\u001b[0moptions\u001b[0m\u001b[0;34m[\u001b[0m\u001b[0;34m\"has_index_names\"\u001b[0m\u001b[0;34m]\u001b[0m \u001b[0;34m=\u001b[0m \u001b[0mkwds\u001b[0m\u001b[0;34m[\u001b[0m\u001b[0;34m\"has_index_names\"\u001b[0m\u001b[0;34m]\u001b[0m\u001b[0;34m\u001b[0m\u001b[0;34m\u001b[0m\u001b[0m\n\u001b[1;32m    947\u001b[0m \u001b[0;34m\u001b[0m\u001b[0m\n\u001b[0;32m--> 948\u001b[0;31m         \u001b[0mself\u001b[0m\u001b[0;34m.\u001b[0m\u001b[0m_make_engine\u001b[0m\u001b[0;34m(\u001b[0m\u001b[0mself\u001b[0m\u001b[0;34m.\u001b[0m\u001b[0mengine\u001b[0m\u001b[0;34m)\u001b[0m\u001b[0;34m\u001b[0m\u001b[0;34m\u001b[0m\u001b[0m\n\u001b[0m\u001b[1;32m    949\u001b[0m \u001b[0;34m\u001b[0m\u001b[0m\n\u001b[1;32m    950\u001b[0m     \u001b[0;32mdef\u001b[0m \u001b[0mclose\u001b[0m\u001b[0;34m(\u001b[0m\u001b[0mself\u001b[0m\u001b[0;34m)\u001b[0m\u001b[0;34m:\u001b[0m\u001b[0;34m\u001b[0m\u001b[0;34m\u001b[0m\u001b[0m\n",
            "\u001b[0;32m/usr/local/lib/python3.7/dist-packages/pandas/io/parsers.py\u001b[0m in \u001b[0;36m_make_engine\u001b[0;34m(self, engine)\u001b[0m\n\u001b[1;32m   1178\u001b[0m     \u001b[0;32mdef\u001b[0m \u001b[0m_make_engine\u001b[0m\u001b[0;34m(\u001b[0m\u001b[0mself\u001b[0m\u001b[0;34m,\u001b[0m \u001b[0mengine\u001b[0m\u001b[0;34m=\u001b[0m\u001b[0;34m\"c\"\u001b[0m\u001b[0;34m)\u001b[0m\u001b[0;34m:\u001b[0m\u001b[0;34m\u001b[0m\u001b[0;34m\u001b[0m\u001b[0m\n\u001b[1;32m   1179\u001b[0m         \u001b[0;32mif\u001b[0m \u001b[0mengine\u001b[0m \u001b[0;34m==\u001b[0m \u001b[0;34m\"c\"\u001b[0m\u001b[0;34m:\u001b[0m\u001b[0;34m\u001b[0m\u001b[0;34m\u001b[0m\u001b[0m\n\u001b[0;32m-> 1180\u001b[0;31m             \u001b[0mself\u001b[0m\u001b[0;34m.\u001b[0m\u001b[0m_engine\u001b[0m \u001b[0;34m=\u001b[0m \u001b[0mCParserWrapper\u001b[0m\u001b[0;34m(\u001b[0m\u001b[0mself\u001b[0m\u001b[0;34m.\u001b[0m\u001b[0mf\u001b[0m\u001b[0;34m,\u001b[0m \u001b[0;34m**\u001b[0m\u001b[0mself\u001b[0m\u001b[0;34m.\u001b[0m\u001b[0moptions\u001b[0m\u001b[0;34m)\u001b[0m\u001b[0;34m\u001b[0m\u001b[0;34m\u001b[0m\u001b[0m\n\u001b[0m\u001b[1;32m   1181\u001b[0m         \u001b[0;32melse\u001b[0m\u001b[0;34m:\u001b[0m\u001b[0;34m\u001b[0m\u001b[0;34m\u001b[0m\u001b[0m\n\u001b[1;32m   1182\u001b[0m             \u001b[0;32mif\u001b[0m \u001b[0mengine\u001b[0m \u001b[0;34m==\u001b[0m \u001b[0;34m\"python\"\u001b[0m\u001b[0;34m:\u001b[0m\u001b[0;34m\u001b[0m\u001b[0;34m\u001b[0m\u001b[0m\n",
            "\u001b[0;32m/usr/local/lib/python3.7/dist-packages/pandas/io/parsers.py\u001b[0m in \u001b[0;36m__init__\u001b[0;34m(self, src, **kwds)\u001b[0m\n\u001b[1;32m   2008\u001b[0m         \u001b[0mkwds\u001b[0m\u001b[0;34m[\u001b[0m\u001b[0;34m\"usecols\"\u001b[0m\u001b[0;34m]\u001b[0m \u001b[0;34m=\u001b[0m \u001b[0mself\u001b[0m\u001b[0;34m.\u001b[0m\u001b[0musecols\u001b[0m\u001b[0;34m\u001b[0m\u001b[0;34m\u001b[0m\u001b[0m\n\u001b[1;32m   2009\u001b[0m \u001b[0;34m\u001b[0m\u001b[0m\n\u001b[0;32m-> 2010\u001b[0;31m         \u001b[0mself\u001b[0m\u001b[0;34m.\u001b[0m\u001b[0m_reader\u001b[0m \u001b[0;34m=\u001b[0m \u001b[0mparsers\u001b[0m\u001b[0;34m.\u001b[0m\u001b[0mTextReader\u001b[0m\u001b[0;34m(\u001b[0m\u001b[0msrc\u001b[0m\u001b[0;34m,\u001b[0m \u001b[0;34m**\u001b[0m\u001b[0mkwds\u001b[0m\u001b[0;34m)\u001b[0m\u001b[0;34m\u001b[0m\u001b[0;34m\u001b[0m\u001b[0m\n\u001b[0m\u001b[1;32m   2011\u001b[0m         \u001b[0mself\u001b[0m\u001b[0;34m.\u001b[0m\u001b[0munnamed_cols\u001b[0m \u001b[0;34m=\u001b[0m \u001b[0mself\u001b[0m\u001b[0;34m.\u001b[0m\u001b[0m_reader\u001b[0m\u001b[0;34m.\u001b[0m\u001b[0munnamed_cols\u001b[0m\u001b[0;34m\u001b[0m\u001b[0;34m\u001b[0m\u001b[0m\n\u001b[1;32m   2012\u001b[0m \u001b[0;34m\u001b[0m\u001b[0m\n",
            "\u001b[0;32mpandas/_libs/parsers.pyx\u001b[0m in \u001b[0;36mpandas._libs.parsers.TextReader.__cinit__\u001b[0;34m()\u001b[0m\n",
            "\u001b[0;32mpandas/_libs/parsers.pyx\u001b[0m in \u001b[0;36mpandas._libs.parsers.TextReader._setup_parser_source\u001b[0;34m()\u001b[0m\n",
            "\u001b[0;31mFileNotFoundError\u001b[0m: [Errno 2] No such file or directory: 'drive/MyDrive/Thesis/data/iam/font_mix_129k.csv'"
          ]
        }
      ]
    },
    {
      "cell_type": "markdown",
      "metadata": {
        "heading_collapsed": true,
        "id": "C0cII3dHY1Dc"
      },
      "source": [
        "## handwriting"
      ]
    },
    {
      "cell_type": "code",
      "metadata": {
        "ExecuteTime": {},
        "heading_collapsed": true,
        "hidden": true,
        "id": "H8ecR58GY1Dd"
      },
      "source": [
        "#handwriting only\n",
        "fname = 'dataset_short.csv'\n",
        "FOLDER = 'lines'"
      ],
      "execution_count": 18,
      "outputs": []
    },
    {
      "cell_type": "code",
      "metadata": {
        "id": "3JHgEDK3LWHS"
      },
      "source": [
        "def logits(x):\n",
        "  x[x == 0.0] += 1.0e-06\n",
        "  x[x == 1.0] -= 1.0e-06\n",
        "\n",
        "  x = x / (1.0 - x)\n",
        "  x = np.log(x)\n",
        "\n",
        "  return x"
      ],
      "execution_count": 19,
      "outputs": []
    },
    {
      "cell_type": "code",
      "metadata": {
        "id": "o1jU39_ro4TN"
      },
      "source": [
        "class MatrixDataset(Dataset):\n",
        "    def __init__(self, dir, targets, transform=None):\n",
        "        self.dir = dir\n",
        "        self.targets = targets\n",
        "        self.transform = transform\n",
        "        \n",
        "    def __getitem__(self, index):\n",
        "      f_name = self.dir + index\n",
        "      x = np.genfromtxt(f_name, delimiter=';', names=None)\n",
        "\n",
        "      y = self.targets[index]\n",
        "\n",
        "      y = y.replace('|', ' ')\n",
        "\n",
        "        \n",
        "      if self.transform:\n",
        "        x = self.transform(x)\n",
        "        \n",
        "        return x, y\n",
        "    \n",
        "    def __len__(self):\n",
        "        return len(self.data)"
      ],
      "execution_count": 20,
      "outputs": []
    },
    {
      "cell_type": "code",
      "metadata": {
        "ExecuteTime": {},
        "heading_collapsed": true,
        "hidden": true,
        "id": "uquAAxBxY1Dd",
        "colab": {
          "base_uri": "https://localhost:8080/"
        },
        "outputId": "f377e999-4c80-491e-d157-6e6e378023fc"
      },
      "source": [
        "CSV = PATH/fname\n",
        "df = pd.read_csv(CSV, delimiter = ' ')\n",
        "\n",
        "sz,bs = 100,15\n",
        "seq_len,word_len = 750,300\n",
        "len(df)"
      ],
      "execution_count": 21,
      "outputs": [
        {
          "output_type": "execute_result",
          "data": {
            "text/plain": [
              "526"
            ]
          },
          "metadata": {},
          "execution_count": 21
        }
      ]
    },
    {
      "cell_type": "markdown",
      "metadata": {
        "id": "yLiaczr9Y1Dd"
      },
      "source": [
        "# ModelData"
      ]
    },
    {
      "cell_type": "code",
      "metadata": {
        "ExecuteTime": {},
        "heading_collapsed": true,
        "hidden": true,
        "id": "3a8YCgx5Y1Dd"
      },
      "source": [
        "tfms = get_transforms(do_flip=False, max_zoom=1, max_rotate=2, max_warp=0.1, max_lighting=0.5)\n",
        "\n",
        "def force_gray(image): return image.convert('L').convert('RGB')"
      ],
      "execution_count": 22,
      "outputs": []
    },
    {
      "cell_type": "code",
      "metadata": {
        "id": "HKFbEkVVaHAL"
      },
      "source": [
        "class MatrixBase(ItemBase):\n",
        "  def __init__(self, px:Tensor):\n",
        "      self.data = px\n",
        "      self.obj = px\n",
        "      self._logit_px = None\n",
        "\n",
        "  def clone(self):\n",
        "      return self.__class__(self.data.clone())\n",
        "\n",
        "  @property\n",
        "  def logit_px(self)->LogitTensorImage:\n",
        "      \"Get logit(image.px).\"\n",
        "      if self._logit_px is None: self._logit_px = logit_(self.px)\n",
        "      return self._logit_px\n",
        "\n",
        "  def get_logits(self):\n",
        "    self.data = self.obj - self.logit_px()\n",
        "\n",
        "  def __str__(self):\n",
        "    return str(self.data)"
      ],
      "execution_count": 23,
      "outputs": []
    },
    {
      "cell_type": "code",
      "metadata": {
        "id": "uRkSrUeHbxc-"
      },
      "source": [
        "class MatrixList(ItemList):\n",
        "  def get(self, i):\n",
        "    fn = super().get(i)\n",
        "    mat = np.genfromtxt(self.path/fn, delimiter=';', names=None)\n",
        "    res = torch.from_numpy(mat.astype(np.float32, copy=False))\n",
        "    return MatrixBase(res)\n"
      ],
      "execution_count": 24,
      "outputs": []
    },
    {
      "cell_type": "markdown",
      "metadata": {
        "id": "tQBiRjgzY1Dd"
      },
      "source": [
        "## SentencePiece"
      ]
    },
    {
      "cell_type": "code",
      "metadata": {
        "colab": {
          "base_uri": "https://localhost:8080/"
        },
        "id": "rZ5hEKhfOZ0p",
        "outputId": "b25741ac-2729-4062-a350-83269a6ea4ea"
      },
      "source": [
        "!pip install sentencepiece"
      ],
      "execution_count": 25,
      "outputs": [
        {
          "output_type": "stream",
          "name": "stdout",
          "text": [
            "Collecting sentencepiece\n",
            "  Downloading sentencepiece-0.1.96-cp37-cp37m-manylinux_2_17_x86_64.manylinux2014_x86_64.whl (1.2 MB)\n",
            "\u001b[K     |████████████████████████████████| 1.2 MB 5.5 MB/s \n",
            "\u001b[?25hInstalling collected packages: sentencepiece\n",
            "Successfully installed sentencepiece-0.1.96\n"
          ]
        }
      ]
    },
    {
      "cell_type": "code",
      "metadata": {
        "ExecuteTime": {},
        "heading_collapsed": true,
        "hidden": true,
        "colab": {
          "base_uri": "https://localhost:8080/"
        },
        "id": "9qk62ksPY1Dd",
        "outputId": "8f5978c5-4353-4676-822f-f1cbb6aedc6d"
      },
      "source": [
        "import sentencepiece as spm\n",
        "\n",
        "sp = spm.SentencePieceProcessor()\n",
        "sp.Load(str(PATH/'spm_iam_corpus.model'))\n",
        "sp.SetEncodeExtraOptions(\"eos\")\n",
        "sp.SetDecodeExtraOptions(\"bos:eos\")"
      ],
      "execution_count": 26,
      "outputs": [
        {
          "output_type": "execute_result",
          "data": {
            "text/plain": [
              "True"
            ]
          },
          "metadata": {},
          "execution_count": 26
        }
      ]
    },
    {
      "cell_type": "code",
      "metadata": {
        "ExecuteTime": {},
        "heading_collapsed": true,
        "hidden": true,
        "id": "N33SAyOlY1Dd"
      },
      "source": [
        "def add_cap_tokens(text):  # before encode\n",
        "    re_caps = re.compile(r'[A-Z]+')\n",
        "    return re_caps.sub(_replace_caps, text)\n",
        "    \n",
        "def _replace_caps(m):\n",
        "    tok = '[UP]' if m.end()-m.start() > 1 else '[MAJ]'\n",
        "    return tok + m.group().lower()\n",
        "\n",
        "def remove_cap_tokens(text):  # after decode\n",
        "    text = re.sub(r'\\[UP\\]\\w+', lambda m: m.group()[4:].upper(), text)  #cap entire word\n",
        "    text = re.sub(r'\\[MAJ\\]\\w?', lambda m: m.group()[5:].upper(), text) #cap first letter\n",
        "    return text"
      ],
      "execution_count": 27,
      "outputs": []
    },
    {
      "cell_type": "markdown",
      "metadata": {
        "heading_collapsed": true,
        "id": "q0v0Nm6_Y1De"
      },
      "source": [
        "### Word only (development)"
      ]
    },
    {
      "cell_type": "code",
      "metadata": {
        "ExecuteTime": {},
        "heading_collapsed": true,
        "hidden": true,
        "id": "7W79nK1qY1De"
      },
      "source": [
        "bs=20"
      ],
      "execution_count": 28,
      "outputs": []
    },
    {
      "cell_type": "code",
      "metadata": {
        "ExecuteTime": {},
        "heading_collapsed": true,
        "hidden": true,
        "id": "0da929MDY1De"
      },
      "source": [
        "def label_collater(samples:BatchSamples, pad_idx:int=0):\n",
        "    \"Function that collect samples and pads ends of labels.\"\n",
        "    data = to_data(samples)\n",
        "    ims, lbls = zip(*data)\n",
        "    imgs = torch.stack(list(ims))\n",
        "    if len(data) is 1 and lbls[0] is 0:   #predict\n",
        "        labels = torch.zeros(1,1).long()\n",
        "        return imgs, labels    \n",
        "    max_len = max([len(s) for s in lbls])\n",
        "    labels = torch.zeros(len(data), max_len+1).long() + pad_idx  # add 1 to max_len to account for bos token\n",
        "    for i,lbl in enumerate(lbls):\n",
        "        labels[i,:len(lbl)] = torch.from_numpy(lbl)  #padding end    \n",
        "    return imgs, labels"
      ],
      "execution_count": 29,
      "outputs": []
    },
    {
      "cell_type": "code",
      "metadata": {
        "ExecuteTime": {},
        "heading_collapsed": true,
        "hidden": true,
        "id": "49bazH8nY1De"
      },
      "source": [
        "class SPMTokenizer(BaseTokenizer):\n",
        "    def tokenizer(self, t:str) -> List[str]: return sp.EncodeAsIds(t)[1:]\n",
        "\n",
        "class SPMProcessor(PreProcessor):\n",
        "    def __init__(self, ds:ItemList=None, chunksize:int=10000):\n",
        "        self.toknizr = Tokenizer(tok_func=SPMTokenizer, pre_rules=[rm_useless_spaces, add_cap_tokens],\n",
        "                                 post_rules=[], special_cases=[])\n",
        "        self.chunksize = chunksize\n",
        "        \n",
        "    def process_one(self, item):\n",
        "        raise Exception(\"This isn't implemented!  I didn't think it was necessary...\")\n",
        "    \n",
        "    def process(self, ds):\n",
        "        tokens = []\n",
        "        for i in progress_bar(range(0,len(ds),self.chunksize), leave=False):\n",
        "            #print(tokens)\n",
        "            #ds.items = [item.replace('|', ' ') for item in ds.items]\n",
        "            #print(ds.items)\n",
        "            tokens += self.toknizr.process_all(ds.items[i:i+self.chunksize])\n",
        "        ds.items = tokens\n",
        "\n",
        "class SPMList(ItemList):\n",
        "    _processor = [SPMProcessor]\n",
        "\n",
        "    def __init__(self, items:Iterator, sp, **kwargs):\n",
        "        super().__init__(items, **kwargs)\n",
        "        self.vocab = sp\n",
        "        self.pad_idx = 0\n",
        "        self.copy_new += ['vocab']\n",
        "\n",
        "    def get(self, i):\n",
        "        o = super().get(i)\n",
        "        return Text(o, self.textify(o))\n",
        "\n",
        "    def reconstruct(self, t:Tensor):\n",
        "        return Text(t, self.textify(t))\n",
        "    \n",
        "    def textify(self, ids):\n",
        "        if isinstance(ids, torch.Tensor): ids = ids.tolist()\n",
        "        st = self.vocab.DecodeIds(ids)\n",
        "        st = remove_cap_tokens(st)\n",
        "        return st"
      ],
      "execution_count": 30,
      "outputs": []
    },
    {
      "cell_type": "code",
      "metadata": {
        "ExecuteTime": {},
        "heading_collapsed": true,
        "hidden": true,
        "id": "ozrQISmxY1De",
        "colab": {
          "base_uri": "https://localhost:8080/",
          "height": 17
        },
        "outputId": "fb1d23b1-873c-4b6c-8aed-41ffa86d1876"
      },
      "source": [
        "data = (MatrixList.from_df(df, path=PATH/FOLDER)\n",
        "        .split_by_rand_pct(valid_pct=0.15, seed=42)\n",
        "        .label_from_df(label_cls=SPMList, sp=sp)\n",
        "        .databunch(bs=bs, device=device, collate_fn=label_collater)\n",
        "       )"
      ],
      "execution_count": 31,
      "outputs": [
        {
          "output_type": "display_data",
          "data": {
            "text/html": [
              ""
            ],
            "text/plain": [
              "<IPython.core.display.HTML object>"
            ]
          },
          "metadata": {}
        },
        {
          "output_type": "display_data",
          "data": {
            "text/html": [
              ""
            ],
            "text/plain": [
              "<IPython.core.display.HTML object>"
            ]
          },
          "metadata": {}
        }
      ]
    },
    {
      "cell_type": "code",
      "metadata": {
        "colab": {
          "base_uri": "https://localhost:8080/"
        },
        "id": "uPT-cgZCpR5Y",
        "outputId": "7e603923-c47a-4b23-8cf3-4feae8c30929"
      },
      "source": [
        "data"
      ],
      "execution_count": 32,
      "outputs": [
        {
          "output_type": "execute_result",
          "data": {
            "text/plain": [
              "DataBunch;\n",
              "\n",
              "Train: LabelList (448 items)\n",
              "x: MatrixList\n",
              "tensor([[0.6797, 0.9480, 0.0382,  ..., 0.0000, 0.0000, 0.0000],\n",
              "        [0.0057, 0.9999, 0.9226,  ..., 0.0000, 0.0000, 0.0000],\n",
              "        [0.0216, 1.0000, 0.9700,  ..., 0.0000, 0.0000, 0.0000],\n",
              "        ...,\n",
              "        [1.0000, 0.0000, 0.0000,  ..., 0.0000, 0.0000, 0.0000],\n",
              "        [1.0000, 0.0000, 0.0000,  ..., 0.0000, 0.0000, 0.0000],\n",
              "        [1.0000, 0.0000, 0.0000,  ..., 0.0000, 0.0000, 0.0000]]),tensor([[0.5458, 0.9932, 0.7320,  ..., 0.0000, 0.0000, 0.0000],\n",
              "        [0.0118, 1.0000, 0.9985,  ..., 0.0000, 0.0000, 0.0000],\n",
              "        [0.0098, 1.0000, 0.9998,  ..., 0.0000, 0.0000, 0.0000],\n",
              "        ...,\n",
              "        [1.0000, 0.0000, 0.0000,  ..., 0.0000, 0.0000, 0.0000],\n",
              "        [1.0000, 0.0000, 0.0000,  ..., 0.0000, 0.0000, 0.0000],\n",
              "        [1.0000, 0.0000, 0.0000,  ..., 0.0000, 0.0000, 0.0000]]),tensor([[0.8296, 0.8133, 0.4072,  ..., 0.0000, 0.0000, 0.0000],\n",
              "        [0.0025, 1.0000, 0.9963,  ..., 0.0000, 0.0000, 0.0000],\n",
              "        [0.0018, 1.0000, 0.9960,  ..., 0.0000, 0.0000, 0.0000],\n",
              "        ...,\n",
              "        [1.0000, 0.0000, 0.0000,  ..., 0.0000, 0.0000, 0.0000],\n",
              "        [1.0000, 0.0000, 0.0000,  ..., 0.0000, 0.0000, 0.0000],\n",
              "        [1.0000, 0.0000, 0.0000,  ..., 0.0000, 0.0000, 0.0000]]),tensor([[0.9771, 0.9784, 0.2208,  ..., 0.0000, 0.0000, 0.0000],\n",
              "        [0.1601, 0.9999, 0.9788,  ..., 0.0000, 0.0000, 0.0000],\n",
              "        [0.1294, 1.0000, 0.9867,  ..., 0.0000, 0.0000, 0.0000],\n",
              "        ...,\n",
              "        [1.0000, 0.0000, 0.0000,  ..., 0.0000, 0.0000, 0.0000],\n",
              "        [1.0000, 0.0000, 0.0000,  ..., 0.0000, 0.0000, 0.0000],\n",
              "        [1.0000, 0.0000, 0.0000,  ..., 0.0000, 0.0000, 0.0000]]),tensor([[0.9126, 0.8048, 0.5674,  ..., 0.0000, 0.0000, 0.0000],\n",
              "        [0.0639, 0.9999, 0.9978,  ..., 0.0000, 0.0000, 0.0000],\n",
              "        [0.1053, 1.0000, 0.9989,  ..., 0.0000, 0.0000, 0.0000],\n",
              "        ...,\n",
              "        [1.0000, 0.0000, 0.0000,  ..., 0.0000, 0.0000, 0.0000],\n",
              "        [1.0000, 0.0000, 0.0000,  ..., 0.0000, 0.0000, 0.0000],\n",
              "        [1.0000, 0.0000, 0.0000,  ..., 0.0000, 0.0000, 0.0000]])\n",
              "y: SPMList\n",
              "ng ⁇ any ⁇ more ⁇ MAJ ⁇ labour ⁇ life ⁇ MAJ ⁇ peers, ⁇ down ⁇ a ⁇ resolution ⁇ on ⁇ the ⁇ subject, ⁇ MAJ ⁇ p ⁇ for ⁇ MAJ ⁇ manchester ⁇ MAJ ⁇ exchange ⁇ ., ⁇ MAJ ⁇ a ⁇ UP ⁇ move ⁇ to ⁇ stop ⁇ MAJ ⁇ mr. ⁇ MAJ ⁇ gaitskell ⁇ from ⁇ nominating, ⁇ of ⁇ MAJ ⁇ labour ⁇ 0 ⁇ UP ⁇ mps ⁇ tomorrow ⁇ . ⁇ MAJ ⁇ mr. ⁇ MAJ ⁇ michael\n",
              "Path: drive/MyDrive/Thesis/data/iam/lines;\n",
              "\n",
              "Valid: LabelList (78 items)\n",
              "x: MatrixList\n",
              "tensor([[0.9819, 0.9658, 0.2310,  ..., 0.0000, 0.0000, 0.0000],\n",
              "        [0.0163, 1.0000, 0.9977,  ..., 0.0000, 0.0000, 0.0000],\n",
              "        [0.0157, 1.0000, 0.9939,  ..., 0.0000, 0.0000, 0.0000],\n",
              "        ...,\n",
              "        [1.0000, 0.0000, 0.0000,  ..., 0.0000, 0.0000, 0.0000],\n",
              "        [1.0000, 0.0000, 0.0000,  ..., 0.0000, 0.0000, 0.0000],\n",
              "        [1.0000, 0.0000, 0.0000,  ..., 0.0000, 0.0000, 0.0000]]),tensor([[0.9404, 0.9983, 0.6167,  ..., 0.0000, 0.0000, 0.0000],\n",
              "        [0.0408, 1.0000, 0.9970,  ..., 0.0000, 0.0000, 0.0000],\n",
              "        [0.0590, 1.0000, 0.9987,  ..., 0.0000, 0.0000, 0.0000],\n",
              "        ...,\n",
              "        [1.0000, 0.0000, 0.0000,  ..., 0.0000, 0.0000, 0.0000],\n",
              "        [1.0000, 0.0000, 0.0000,  ..., 0.0000, 0.0000, 0.0000],\n",
              "        [1.0000, 0.0000, 0.0000,  ..., 0.0000, 0.0000, 0.0000]]),tensor([[0.7774, 0.9985, 0.2486,  ..., 0.0000, 0.0000, 0.0000],\n",
              "        [0.0586, 1.0000, 0.9966,  ..., 0.0000, 0.0000, 0.0000],\n",
              "        [0.1265, 1.0000, 0.9994,  ..., 0.0000, 0.0000, 0.0000],\n",
              "        ...,\n",
              "        [1.0000, 0.0000, 0.0000,  ..., 0.0000, 0.0000, 0.0000],\n",
              "        [1.0000, 0.0000, 0.0000,  ..., 0.0000, 0.0000, 0.0000],\n",
              "        [1.0000, 0.0000, 0.0000,  ..., 0.0000, 0.0000, 0.0000]]),tensor([[0.8948, 0.4889, 0.4631,  ..., 0.0000, 0.0000, 0.0000],\n",
              "        [0.0139, 0.9996, 0.9994,  ..., 0.0000, 0.0000, 0.0000],\n",
              "        [0.0970, 1.0000, 0.9999,  ..., 0.0000, 0.0000, 0.0000],\n",
              "        ...,\n",
              "        [1.0000, 0.0000, 0.0000,  ..., 0.0000, 0.0000, 0.0000],\n",
              "        [1.0000, 0.0000, 0.0000,  ..., 0.0000, 0.0000, 0.0000],\n",
              "        [1.0000, 0.0000, 0.0000,  ..., 0.0000, 0.0000, 0.0000]]),tensor([[0.8922, 0.5214, 0.5765,  ..., 0.0000, 0.0000, 0.0000],\n",
              "        [0.0091, 0.9991, 0.9970,  ..., 0.0000, 0.0000, 0.0000],\n",
              "        [0.0072, 0.9999, 0.9988,  ..., 0.0000, 0.0000, 0.0000],\n",
              "        ...,\n",
              "        [1.0000, 0.0000, 0.0000,  ..., 0.0000, 0.0000, 0.0000],\n",
              "        [1.0000, 0.0000, 0.0000,  ..., 0.0000, 0.0000, 0.0000],\n",
              "        [1.0000, 0.0000, 0.0000,  ..., 0.0000, 0.0000, 0.0000]])\n",
              "y: SPMList\n",
              " ⁇ the ⁇ problem ⁇ with ⁇ MAJ ⁇ dr. ⁇ MAJ ⁇ brentano ⁇ ,,wardly ⁇ unemotional ⁇ , ⁇ replied ⁇ with ⁇ a, ⁇ more ⁇ MAJ ⁇ labour ⁇ life ⁇ MAJ ⁇ peers ⁇ is ⁇ to ⁇ be ⁇ made ⁇ at ⁇ a, ⁇ MAJ ⁇ labour's ⁇ MAJ ⁇ colonial ⁇ spokesman ⁇ , ⁇ said ⁇ MAJ ⁇ sir ⁇ MAJ ⁇ roy ⁇ had, ⁇ MAJ ⁇ colonial ⁇ MAJ ⁇ secretary ⁇ , ⁇ MAJ ⁇ mr. ⁇ MAJ ⁇ iain ⁇ MAJ ⁇ macleod ⁇ ,\n",
              "Path: drive/MyDrive/Thesis/data/iam/lines;\n",
              "\n",
              "Test: None"
            ]
          },
          "metadata": {},
          "execution_count": 32
        }
      ]
    },
    {
      "cell_type": "code",
      "metadata": {
        "ExecuteTime": {},
        "heading_collapsed": true,
        "hidden": true,
        "id": "VQaruLGTY1De",
        "colab": {
          "base_uri": "https://localhost:8080/",
          "height": 183
        },
        "outputId": "9a2f0031-4aea-4d97-d519-86edfc5786e4"
      },
      "source": [
        "assert False\n",
        "data.show_batch(rows=2, ds_type=DatasetType.Train)"
      ],
      "execution_count": 33,
      "outputs": [
        {
          "output_type": "error",
          "ename": "AssertionError",
          "evalue": "ignored",
          "traceback": [
            "\u001b[0;31m---------------------------------------------------------------------------\u001b[0m",
            "\u001b[0;31mAssertionError\u001b[0m                            Traceback (most recent call last)",
            "\u001b[0;32m<ipython-input-33-20ca1eae1708>\u001b[0m in \u001b[0;36m<module>\u001b[0;34m()\u001b[0m\n\u001b[0;32m----> 1\u001b[0;31m \u001b[0;32massert\u001b[0m \u001b[0;32mFalse\u001b[0m\u001b[0;34m\u001b[0m\u001b[0;34m\u001b[0m\u001b[0m\n\u001b[0m\u001b[1;32m      2\u001b[0m \u001b[0mdata\u001b[0m\u001b[0;34m.\u001b[0m\u001b[0mshow_batch\u001b[0m\u001b[0;34m(\u001b[0m\u001b[0mrows\u001b[0m\u001b[0;34m=\u001b[0m\u001b[0;36m2\u001b[0m\u001b[0;34m,\u001b[0m \u001b[0mds_type\u001b[0m\u001b[0;34m=\u001b[0m\u001b[0mDatasetType\u001b[0m\u001b[0;34m.\u001b[0m\u001b[0mTrain\u001b[0m\u001b[0;34m)\u001b[0m\u001b[0;34m\u001b[0m\u001b[0;34m\u001b[0m\u001b[0m\n",
            "\u001b[0;31mAssertionError\u001b[0m: "
          ]
        }
      ]
    },
    {
      "cell_type": "markdown",
      "metadata": {
        "id": "RlXF0FRMY1De"
      },
      "source": [
        "### Word only (export)"
      ]
    },
    {
      "cell_type": "code",
      "metadata": {
        "ExecuteTime": {},
        "heading_collapsed": true,
        "hidden": true,
        "id": "U-lVKnivY1Df"
      },
      "source": [
        "assert False\n",
        "bs=20"
      ],
      "execution_count": null,
      "outputs": []
    },
    {
      "cell_type": "code",
      "metadata": {
        "ExecuteTime": {},
        "heading_collapsed": true,
        "hidden": true,
        "id": "PKLPCBDLY1Df"
      },
      "source": [
        "def label_collater(samples:BatchSamples, pad_idx:int=0):\n",
        "    \"Function that collect samples and pads ends of labels.\"\n",
        "    data = to_data(samples)\n",
        "    ims, lbls = zip(*data)\n",
        "    imgs = torch.stack(list(ims))\n",
        "    if len(data) is 1 and lbls[0] is 0:   #predict\n",
        "        labels = torch.zeros(1,1).long()\n",
        "        return imgs, labels    \n",
        "    max_len = max([len(s) for s in lbls])\n",
        "    labels = torch.zeros(len(data), max_len+1).long() + pad_idx  # add 1 to max_len to account for bos token\n",
        "    for i,lbl in enumerate(lbls):\n",
        "        labels[i,:len(lbl)] = torch.from_numpy(lbl)  #padding end    \n",
        "    return imgs, labels"
      ],
      "execution_count": null,
      "outputs": []
    },
    {
      "cell_type": "code",
      "metadata": {
        "ExecuteTime": {},
        "heading_collapsed": true,
        "hidden": true,
        "id": "lUrEnL_HY1Df"
      },
      "source": [
        "class SPTokenizer(BaseTokenizer):\n",
        "    \"Wrapper around a SentncePiece tokenizer to make it a `BaseTokenizer`.\"\n",
        "    def __init__(self, model_prefix:str):\n",
        "        self.tok = spm.SentencePieceProcessor()\n",
        "        self.tok.Load(f'{model_prefix}.model')\n",
        "        self.tok.SetEncodeExtraOptions(\"eos\")\n",
        "\n",
        "    def tokenizer(self, t:str) -> List[str]:\n",
        "        return self.tok.EncodeAsIds(t)[1:]\n",
        "      \n",
        "class CustomTokenizer():\n",
        "    def __init__(self, tok_func:Callable, model_prefix:str):\n",
        "        self.tok_func, self.model_prefix = tok_func,model_prefix\n",
        "        self.pre_rules = [rm_useless_spaces, add_cap_tokens]\n",
        "        \n",
        "    def __repr__(self) -> str:\n",
        "        res = f'Tokenizer {self.tok_func.__name__} using `{self.model_prefix}` model with the following rules:\\n'\n",
        "        for rule in self.pre_rules: res += f' - {rule.__name__}\\n'\n",
        "        return res        \n",
        "\n",
        "    def process_one(self, t:str, tok:BaseTokenizer) -> List[str]:\n",
        "        \"Processe one text `t` with tokenizer `tok`.\"\n",
        "        for rule in self.pre_rules: t = rule(t)  \n",
        "        toks = tok.tokenizer(t) \n",
        "        return toks \n",
        "                                                                         \n",
        "    def process_all(self, texts:Collection[str]) -> List[List[str]]: \n",
        "        \"Process a list of `texts`.\" \n",
        "        tok = self.tok_func(self.model_prefix)\n",
        "        return [self.process_one(t, tok) for t in texts]"
      ],
      "execution_count": null,
      "outputs": []
    },
    {
      "cell_type": "code",
      "metadata": {
        "ExecuteTime": {},
        "heading_collapsed": true,
        "hidden": true,
        "id": "vhkX3Sk2Y1Df"
      },
      "source": [
        "class SPList(ItemList):\n",
        "    def __init__(self, items:Iterator, **kwargs):\n",
        "        super().__init__(items, **kwargs)\n",
        "        model_prefix = self.path/'spm_full_10k'\n",
        "        cust_tok = CustomTokenizer(SPTokenizer, model_prefix)\n",
        "        self.processor = TokenizeProcessor(tokenizer=cust_tok, include_bos=False)\n",
        "        self.sp = spm.SentencePieceProcessor()\n",
        "        self.sp.Load(str(model_prefix)+'.model')\n",
        "        self.sp.SetDecodeExtraOptions(\"bos:eos\")\n",
        "        \n",
        "        self.pad_idx = 0\n",
        "        self.copy_new += ['sp']\n",
        "    \n",
        "    def get(self, i):\n",
        "        o = self.items[i]\n",
        "        return Text(o, self.textify(o))\n",
        "    \n",
        "    def reconstruct(self, t:Tensor):\n",
        "        nonzero_idxs = (t != self.pad_idx).nonzero()\n",
        "        idx_min = 0\n",
        "        idx_max = nonzero_idxs.max() if len(nonzero_idxs) > 0 else 0\n",
        "        return Text(t[idx_min:idx_max+1], self.textify(t[idx_min:idx_max+1]))\n",
        "\n",
        "    def analyze_pred(self, pred:Tensor):\n",
        "        return torch.argmax(pred, dim=-1)        \n",
        "    \n",
        "    def textify(self, ids):\n",
        "        if isinstance(ids, torch.Tensor): ids = ids.tolist()\n",
        "        st = self.sp.DecodeIds(ids)\n",
        "        st = remove_cap_tokens(st)\n",
        "        return st"
      ],
      "execution_count": null,
      "outputs": []
    },
    {
      "cell_type": "code",
      "metadata": {
        "ExecuteTime": {},
        "heading_collapsed": true,
        "hidden": true,
        "id": "KJGlF8_CY1Df"
      },
      "source": [
        "data = (ImageList.from_df(df, path=PATH, folder=FOLDER, after_open=force_gray)\n",
        "        .split_by_rand_pct(valid_pct=0.15, seed=42)\n",
        "        .label_from_df(label_cls=SPList)\n",
        "        .transform(tfms, size=sz, resize_method=ResizeMethod.SQUISH)\n",
        "        .databunch(bs=bs, device=device, collate_fn=label_collater)\n",
        "       )"
      ],
      "execution_count": null,
      "outputs": []
    },
    {
      "cell_type": "code",
      "metadata": {
        "ExecuteTime": {},
        "heading_collapsed": true,
        "hidden": true,
        "id": "xpO9E61cY1Dg"
      },
      "source": [
        "# data.show_batch(rows=2, ds_type=DatasetType.Train, figsize=(18,10))"
      ],
      "execution_count": null,
      "outputs": []
    },
    {
      "cell_type": "markdown",
      "metadata": {
        "id": "WQnQIOm-Y1Dg"
      },
      "source": [
        "### Combo"
      ]
    },
    {
      "cell_type": "code",
      "metadata": {
        "ExecuteTime": {},
        "heading_collapsed": true,
        "hidden": true,
        "id": "aMkzgYq_Y1Dg"
      },
      "source": [
        "itos = {}\n",
        "for i in range(len(sp)):\n",
        "    itos[i] = sp.id_to_piece(i)\n",
        "\n",
        "c_itos={}\n",
        "for k,v in itos.items():\n",
        "    if k<7:\n",
        "        c_itos[k] = [k]\n",
        "    else:\n",
        "        c_itos[k] = [sp.piece_to_id(c) for c in list(v)]"
      ],
      "execution_count": null,
      "outputs": []
    },
    {
      "cell_type": "code",
      "metadata": {
        "ExecuteTime": {},
        "heading_collapsed": true,
        "hidden": true,
        "id": "xuoH_avTY1Dg"
      },
      "source": [
        "def characterize(t:Collection[int]) -> Collection[int]:\n",
        "    return functools.reduce(operator.iconcat, [c_itos[c] for c in t], [])\n",
        "    # flatten nested list - fastest\n",
        "    # https://stackoverflow.com/questions/952914/how-to-make-a-flat-list-out-of-list-of-lists"
      ],
      "execution_count": null,
      "outputs": []
    },
    {
      "cell_type": "code",
      "metadata": {
        "ExecuteTime": {},
        "heading_collapsed": true,
        "hidden": true,
        "id": "hxM6HjMGY1Dg"
      },
      "source": [
        "def multi_label_collater(samples:BatchSamples):\n",
        "    \"Function that collect samples and pads ends of labels.\"\n",
        "    data = to_data(samples)\n",
        "    ims, lbls = zip(*data)\n",
        "    char_lbls, word_lbls = zip(*lbls)\n",
        "    imgs = torch.stack(list(ims))\n",
        "    return imgs, (c_pad(char_lbls), c_pad(word_lbls))\n",
        "    \n",
        "def c_pad(lbls, pad_idx=0):\n",
        "    max_len = max([len(s) for s in lbls])\n",
        "    labels = torch.zeros(len(lbls), max_len+1).long() + pad_idx  # add 1 to max_len to account for bos token\n",
        "    for i,lbl in enumerate(lbls):\n",
        "        labels[i,:len(lbl)] = torch.from_numpy(lbl)  #padding end    \n",
        "    return labels"
      ],
      "execution_count": null,
      "outputs": []
    },
    {
      "cell_type": "code",
      "metadata": {
        "ExecuteTime": {},
        "heading_collapsed": true,
        "hidden": true,
        "id": "uKDjMv-hY1Dg"
      },
      "source": [
        "class SPMTokenizer(BaseTokenizer):\n",
        "    def tokenizer(self, t:str) -> List[int]:\n",
        "        w_toks = sp.EncodeAsIds(t)[1:]\n",
        "        c_toks = characterize(w_toks)\n",
        "        return [c_toks, w_toks]\n",
        "\n",
        "class SPMProcessor(PreProcessor):\n",
        "    def __init__(self, ds:ItemList=None, chunksize:int=10000):\n",
        "        self.toknizr = Tokenizer(tok_func=SPMTokenizer, pre_rules=[rm_useless_spaces, add_cap_tokens],\n",
        "                                 post_rules=[], special_cases=[])\n",
        "        self.chunksize = chunksize\n",
        "        \n",
        "    def process_one(self, item):\n",
        "        raise Exception(\"This isn't implemented!  I didn't think it was necessary...\")\n",
        "    \n",
        "    def process(self, ds):\n",
        "        tokens = []\n",
        "        for i in progress_bar(range(0,len(ds),self.chunksize), leave=False):\n",
        "            tokens += self.toknizr.process_all(ds.items[i:i+self.chunksize])\n",
        "        ds.items = tokens"
      ],
      "execution_count": null,
      "outputs": []
    },
    {
      "cell_type": "code",
      "metadata": {
        "ExecuteTime": {},
        "heading_collapsed": true,
        "hidden": true,
        "id": "vD4aRNveY1Dh"
      },
      "source": [
        "class SPMMultiList(ItemList):\n",
        "    _processor = [SPMProcessor]\n",
        "\n",
        "    def __init__(self, items:Iterator, sp, **kwargs):\n",
        "        super().__init__(items, **kwargs)\n",
        "        self.vocab = sp\n",
        "        self.pad_idx = 0\n",
        "        self.copy_new += ['vocab']\n",
        "    \n",
        "    def get(self, i):\n",
        "        c,w = self.items[i]\n",
        "        return [Text(c, self.textify(c)), Text(w, self.textify(w))]\n",
        "    \n",
        "    def reconstruct(self, t:Tensor):\n",
        "        c,w = t\n",
        "        return [self.reconstruct_one(c),self.reconstruct_one(w)]\n",
        "\n",
        "    def analyze_pred(self, pred:Tensor):\n",
        "        return torch.argmax(pred, dim=-1)\n",
        "    \n",
        "    def reconstruct_one(self, x):\n",
        "        nonzero_idxs = (x != self.pad_idx).nonzero()\n",
        "        idx_min = 0  #(x != self.pad_idx).nonzero().min()\n",
        "        idx_max = nonzero_idxs.max() if len(nonzero_idxs) > 0 else 0\n",
        "        return Text(x[idx_min:idx_max+1], self.textify(x[idx_min:idx_max+1]))\n",
        "    \n",
        "    def textify(self, ids):\n",
        "        if isinstance(ids, torch.Tensor): ids = ids.tolist()\n",
        "        st = self.vocab.DecodeIds(ids)\n",
        "        st = remove_cap_tokens(st)\n",
        "        return st"
      ],
      "execution_count": null,
      "outputs": []
    },
    {
      "cell_type": "code",
      "metadata": {
        "ExecuteTime": {},
        "heading_collapsed": true,
        "hidden": true,
        "id": "v789KLXcY1Dh"
      },
      "source": [
        "class ImageMultiList(ImageList):  \n",
        "    def show_xys(self, xs, ys, figsize:Tuple[int,int]=(9,10), **kwargs):\n",
        "        \"Show the `xs` and `ys` on a figure of `figsize`. `kwargs` are passed to the show method.\"\n",
        "        rows = int(math.sqrt(len(xs)))\n",
        "        fig, axs = plt.subplots(rows,rows,figsize=figsize)\n",
        "        for i, ax in enumerate(axs.flatten() if rows > 1 else [axs]):\n",
        "            chars,words = ys[i]\n",
        "            combined = Text([], str(chars) + '\\n\\n' + str(words))\n",
        "            xs[i].show(ax=ax, y=combined, **kwargs)\n",
        "        plt.tight_layout()"
      ],
      "execution_count": null,
      "outputs": []
    },
    {
      "cell_type": "code",
      "metadata": {
        "ExecuteTime": {},
        "heading_collapsed": true,
        "hidden": true,
        "id": "56BLYorbY1Dh"
      },
      "source": [
        "data = (ImageMultiList.from_df(df, path=PATH, folder=FOLDER, after_open=force_gray)\n",
        "        .split_by_rand_pct(valid_pct=0.15, seed=42)\n",
        "        .label_from_df(label_cls=SPMMultiList, sp=sp)\n",
        "        .transform(tfms, size=sz, resize_method=ResizeMethod.SQUISH)\n",
        "        .databunch(bs=bs, device=device, collate_fn=multi_label_collater)\n",
        "       )"
      ],
      "execution_count": null,
      "outputs": []
    },
    {
      "cell_type": "code",
      "metadata": {
        "ExecuteTime": {},
        "heading_collapsed": true,
        "hidden": true,
        "id": "lTdm1mFLY1Dh"
      },
      "source": [
        "#data.show_batch(rows=2, ds_type=DatasetType.Train, figsize=(18,10))"
      ],
      "execution_count": null,
      "outputs": []
    },
    {
      "cell_type": "markdown",
      "metadata": {
        "heading_collapsed": true,
        "id": "lXum5EgdY1Dh"
      },
      "source": [
        "# Transformer Modules"
      ]
    },
    {
      "cell_type": "code",
      "metadata": {
        "ExecuteTime": {},
        "heading_collapsed": true,
        "hidden": true,
        "id": "FlWT6biQY1Dh"
      },
      "source": [
        "# LayerNorm = nn.LayerNorm\n",
        "LayerNorm = partial(nn.LayerNorm, eps=1e-4)  # eps: 1e-4 accomodates mixed precision training"
      ],
      "execution_count": 34,
      "outputs": []
    },
    {
      "cell_type": "code",
      "metadata": {
        "ExecuteTime": {},
        "heading_collapsed": true,
        "hidden": true,
        "id": "SM6jwBd-Y1Di"
      },
      "source": [
        "class SublayerConnection(nn.Module):\n",
        "    \"A residual connection followed by a layer norm.  Note: (for code simplicity) norm is first.\"\n",
        "    def __init__(self, size, dropout):\n",
        "        super(SublayerConnection, self).__init__()\n",
        "        self.norm = LayerNorm(size)\n",
        "        self.dropout = nn.Dropout(dropout)\n",
        "\n",
        "    def forward(self, x, sublayer):\n",
        "        return x + self.dropout(sublayer(self.norm(x)))"
      ],
      "execution_count": 35,
      "outputs": []
    },
    {
      "cell_type": "code",
      "metadata": {
        "ExecuteTime": {},
        "heading_collapsed": true,
        "hidden": true,
        "id": "5xd8rDNUY1Di"
      },
      "source": [
        "def clones(module, N):\n",
        "    \"Produce N identical layers.\"\n",
        "    return nn.ModuleList([deepcopy(module) for _ in range(N)])"
      ],
      "execution_count": 36,
      "outputs": []
    },
    {
      "cell_type": "code",
      "metadata": {
        "ExecuteTime": {},
        "heading_collapsed": true,
        "hidden": true,
        "id": "42mUY_acY1Di"
      },
      "source": [
        "class Encoder(nn.Module):\n",
        "    def __init__(self, layer, N):\n",
        "        super(Encoder, self).__init__()\n",
        "        self.layers = clones(layer, N)\n",
        "        self.norm = LayerNorm(layer.size)\n",
        "        \n",
        "    def forward(self, x):\n",
        "        print(\"Shape of tensor passed to the encoding layers: \")\n",
        "        print(x.shape)\n",
        "        for layer in self.layers:\n",
        "            x = layer(x)\n",
        "        return self.norm(x)"
      ],
      "execution_count": 37,
      "outputs": []
    },
    {
      "cell_type": "code",
      "metadata": {
        "ExecuteTime": {},
        "heading_collapsed": true,
        "hidden": true,
        "id": "QhSomLVjY1Di"
      },
      "source": [
        "class EncoderLayer(nn.Module):\n",
        "    \"Encoder: self-attn and feed forward\"\n",
        "    def __init__(self, size, self_attn, feed_forward, dropout):\n",
        "        super(EncoderLayer, self).__init__()\n",
        "        self.size = size\n",
        "        self.self_attn = self_attn\n",
        "        self.feed_forward = feed_forward\n",
        "        self.sublayer = clones(SublayerConnection(size, dropout), 2)\n",
        "\n",
        "    def forward(self, x, mask=None):\n",
        "        x = self.sublayer[0](x, lambda x: self.self_attn(x, x, x, mask))\n",
        "        return self.sublayer[1](x, self.feed_forward)"
      ],
      "execution_count": 38,
      "outputs": []
    },
    {
      "cell_type": "code",
      "metadata": {
        "ExecuteTime": {},
        "heading_collapsed": true,
        "hidden": true,
        "id": "y_NaBVwjY1Di"
      },
      "source": [
        "class Decoder(nn.Module):\n",
        "    \"Generic N layer decoder with masking.\"\n",
        "    def __init__(self, layer, N):\n",
        "        super(Decoder, self).__init__()\n",
        "        self.layers = clones(layer, N)\n",
        "        self.norm = LayerNorm(layer.size)\n",
        "        \n",
        "    def forward(self, x, src, tgt_mask=None):\n",
        "        for layer in self.layers:\n",
        "            x = layer(x, src, tgt_mask)\n",
        "        return self.norm(x)"
      ],
      "execution_count": 39,
      "outputs": []
    },
    {
      "cell_type": "code",
      "metadata": {
        "ExecuteTime": {},
        "heading_collapsed": true,
        "hidden": true,
        "id": "UyoLndUnY1Di"
      },
      "source": [
        "class DecoderLayer(nn.Module):\n",
        "    \"Decoder: self-attn, src-attn, and feed forward\"\n",
        "    def __init__(self, size, self_attn, src_attn, feed_forward, dropout):\n",
        "        super(DecoderLayer, self).__init__()\n",
        "        self.size = size\n",
        "        self.self_attn = self_attn\n",
        "        self.src_attn = src_attn\n",
        "        self.feed_forward = feed_forward\n",
        "        self.sublayer = clones(SublayerConnection(size, dropout), 3)  # wraps layer in residual,dropout,norm\n",
        " \n",
        "    def forward(self, x, src, tgt_mask=None):\n",
        "        x = self.sublayer[0](x, lambda x: self.self_attn(x, x, x, tgt_mask))  # acts as a weak LM\n",
        "        x = self.sublayer[1](x, lambda x: self.src_attn(x, src, src))\n",
        "        return self.sublayer[2](x, self.feed_forward)"
      ],
      "execution_count": 40,
      "outputs": []
    },
    {
      "cell_type": "code",
      "metadata": {
        "ExecuteTime": {},
        "heading_collapsed": true,
        "hidden": true,
        "id": "_UZpxb8rY1Di"
      },
      "source": [
        "def attention(query, key, value, mask=None, dropout=None):\n",
        "    \"Compute 'Scaled Dot Product Attention'\"\n",
        "    depth = query.size(-1)\n",
        "    scores = torch.matmul(query, key.transpose(-2, -1)) / math.sqrt(depth)\n",
        "    if mask is not None:\n",
        "        scores = scores.masked_fill(mask == 0, -1e4)  #changed from: -1e9 to accomodate mixed precision  \n",
        "    p_attn = F.softmax(scores, dim=-1)\n",
        "    if dropout is not None:\n",
        "        p_attn = dropout(p_attn)\n",
        "    return torch.matmul(p_attn, value), p_attn"
      ],
      "execution_count": 41,
      "outputs": []
    },
    {
      "cell_type": "code",
      "metadata": {
        "ExecuteTime": {},
        "heading_collapsed": true,
        "hidden": true,
        "id": "nUSdBOVGY1Di"
      },
      "source": [
        "class SingleHeadedAttention(nn.Module):\n",
        "    def __init__(self, d_model, dropout=0.2):\n",
        "        super(SingleHeadedAttention, self).__init__()\n",
        "        self.linears = clones(nn.Linear(d_model, d_model), 4)\n",
        "        self.attn = None\n",
        "        self.dropout = nn.Dropout(dropout)\n",
        "        \n",
        "    def forward(self, query, key, value, mask=None):        \n",
        "        query, key, value = [l(x) for l, x in zip(self.linears, (query, key, value))]\n",
        "        x, self.attn = attention(query, key, value, mask=mask, dropout=self.dropout)\n",
        "        return self.linears[-1](x)"
      ],
      "execution_count": 42,
      "outputs": []
    },
    {
      "cell_type": "code",
      "metadata": {
        "ExecuteTime": {},
        "heading_collapsed": true,
        "hidden": true,
        "id": "wHcwXGlUY1Dj"
      },
      "source": [
        "class MultiHeadedAttention(nn.Module):\n",
        "    def __init__(self, d_model, h=8, dropout=0.2):\n",
        "        super(MultiHeadedAttention, self).__init__()\n",
        "        assert d_model % h == 0\n",
        "        self.d_k = d_model // h        # assume d_v always equals d_k\n",
        "        self.h = h\n",
        "        self.linears = clones(nn.Linear(d_model, d_model), 4)\n",
        "        self.attn = None\n",
        "        self.dropout = nn.Dropout(dropout)\n",
        "        \n",
        "    def forward(self, q, k, v, mask=None):\n",
        "        if mask is not None: mask = mask.unsqueeze(1)\n",
        "        bs = q.size(0)\n",
        "        \n",
        "        # 1) Do all the linear projections in batch from d_model => h x d_k \n",
        "        q, k, v = [l(x).view(bs, -1, self.h, self.d_k).transpose(1,2) for l, x in zip(self.linears, (q, k, v))]\n",
        "        \n",
        "        # 2) Apply attention on all the projected vectors in batch. \n",
        "        x, self.attn = attention(q, k, v, mask=mask, dropout=self.dropout)\n",
        "        \n",
        "        # 3) \"Concat\" using a view and apply a final linear. \n",
        "        x = x.transpose(1, 2).contiguous().view(bs, -1, self.h * self.d_k)\n",
        "        return self.linears[-1](x)"
      ],
      "execution_count": 43,
      "outputs": []
    },
    {
      "cell_type": "code",
      "metadata": {
        "ExecuteTime": {},
        "heading_collapsed": true,
        "hidden": true,
        "id": "zygSpSvxY1Dj"
      },
      "source": [
        "class PositionwiseFeedForward(nn.Module):\n",
        "    def __init__(self, d_model, dropout=0.2):\n",
        "        super(PositionwiseFeedForward, self).__init__()\n",
        "        self.w_1 = nn.Linear(d_model, d_model*4)\n",
        "        self.w_2 = nn.Linear(d_model*4, d_model)\n",
        "        self.dropout = nn.Dropout(dropout)\n",
        "        \n",
        "    def forward(self, x):\n",
        "        return self.w_2(self.dropout(F.gelu(self.w_1(x))))"
      ],
      "execution_count": 44,
      "outputs": []
    },
    {
      "cell_type": "code",
      "metadata": {
        "ExecuteTime": {},
        "heading_collapsed": true,
        "hidden": true,
        "id": "U5RIv_YGY1Dj"
      },
      "source": [
        "class PositionalEncoding(nn.Module):\n",
        "    def __init__(self, d_model, dropout=0.1, max_len=2000):\n",
        "        super(PositionalEncoding, self).__init__()\n",
        "        \n",
        "        self.dropout = nn.Dropout(p=dropout)\n",
        "        \n",
        "        pe = torch.zeros(max_len, d_model)\n",
        "        position = torch.arange(0.0, max_len).unsqueeze(1)\n",
        "        log_increment = math.log(1e4) / d_model\n",
        "        div_term = torch.exp(torch.arange(0.0, d_model, 2) * -log_increment)  \n",
        "        pe[:, 0::2] = torch.sin(position * div_term)\n",
        "        pe[:, 1::2] = torch.cos(position * div_term)\n",
        "        pe.unsqueeze_(0)\n",
        "\n",
        "        self.register_buffer('pe', pe)    #(1,max_len,d_model)\n",
        "        # registered buffers are Tensors (not Variables)\n",
        "        # not a parameter but still want in the state_dict\n",
        "\n",
        "    def forward(self, x):\n",
        "        x = x + self.pe[:, :x.size(1)]\n",
        "        return self.dropout(x)"
      ],
      "execution_count": 45,
      "outputs": []
    },
    {
      "cell_type": "code",
      "metadata": {
        "ExecuteTime": {},
        "heading_collapsed": true,
        "hidden": true,
        "id": "2GLvmbwEY1Dj"
      },
      "source": [
        "class Embeddings(nn.Module):\n",
        "    def __init__(self, d_model, vocab):\n",
        "        super(Embeddings, self).__init__()\n",
        "        self.lut = nn.Embedding(vocab, d_model)\n",
        "        self.d_model = d_model\n",
        "\n",
        "    def forward(self, x):\n",
        "        return self.lut(x) * math.sqrt(self.d_model)"
      ],
      "execution_count": 46,
      "outputs": []
    },
    {
      "cell_type": "markdown",
      "metadata": {
        "id": "XDu6ezmJY1Dj"
      },
      "source": [
        "# SentencePiece Architectures"
      ]
    },
    {
      "cell_type": "markdown",
      "metadata": {
        "heading_collapsed": true,
        "id": "v2Pa8bwbY1Dj"
      },
      "source": [
        "## Word Arch"
      ]
    },
    {
      "cell_type": "code",
      "metadata": {
        "ExecuteTime": {},
        "heading_collapsed": true,
        "hidden": true,
        "id": "2flSQIujY1Dj"
      },
      "source": [
        "class LearnedPositionalEmbeddings(nn.Module):\n",
        "    def __init__(self, d_model, vocab, dropout=0.1):\n",
        "        super(LearnedPositionalEmbeddings, self).__init__()\n",
        "        self.nl_tok  = 4\n",
        "        self.d_model = d_model\n",
        "\n",
        "        self.embed = nn.Embedding(vocab, d_model, 0)\n",
        "        self.rows = nn.Embedding(15, d_model//2, 0)\n",
        "        self.w_cols = nn.Embedding(60, d_model//2, 0)\n",
        "        \n",
        "        self.dropout = nn.Dropout(p=dropout)\n",
        "\n",
        "    def forward(self, x):\n",
        "        rows,cols = self.encode_spatial_positions(x)\n",
        "        \n",
        "        row_t = self.rows(rows)            \n",
        "        col_t = self.w_cols(torch.clamp(cols, max=self.w_cols.num_embeddings-1))  # clamp to max column value\n",
        "        pos_enc = torch.cat((row_t, col_t), dim=-1)\n",
        "                \n",
        "        x = self.embed(x)\n",
        "        x = (x + pos_enc) * math.sqrt(self.d_model)\n",
        "        return self.dropout(x)\n",
        "    \n",
        "    def encode_spatial_positions(self, x):\n",
        "        rows,cols = torch.zeros_like(x),torch.zeros_like(x)\n",
        "        for ii,batch in enumerate(x.unbind()):\n",
        "            nls = torch.nonzero(batch==self.nl_tok).flatten()\n",
        "            last = torch.nonzero(batch).flatten()[-1][None]\n",
        "            splits = torch.cat([nls,last])\n",
        "\n",
        "            p=0\n",
        "            for i,n in enumerate(splits, start=1):\n",
        "                rows[ii,p:n+1] = i\n",
        "                cols[ii,p:n+1] = torch.arange(1,n-p+2)\n",
        "                p = n+1\n",
        "        return rows,cols"
      ],
      "execution_count": 47,
      "outputs": []
    },
    {
      "cell_type": "code",
      "metadata": {
        "ExecuteTime": {},
        "heading_collapsed": true,
        "hidden": true,
        "id": "qw0oM0nqY1Dj"
      },
      "source": [
        "class ResnetBase(nn.Module):\n",
        "    def __init__(self, em_sz):\n",
        "        super().__init__()\n",
        "        \n",
        "        slices = {128: -4, 256: -3, 512: -2}\n",
        "        s = slices[em_sz]\n",
        "\n",
        "        net = models.resnet18(True)\n",
        "        modules = list(net.children())[:s]\n",
        "        self.base = nn.Sequential(*modules)                  #32x32 : 256\n",
        "        \n",
        "    def forward(self, x):\n",
        "        # IVO\n",
        "        # return x\n",
        "        return self.base(x)"
      ],
      "execution_count": 48,
      "outputs": []
    },
    {
      "cell_type": "code",
      "metadata": {
        "ExecuteTime": {},
        "heading_collapsed": true,
        "hidden": true,
        "id": "rK-sKzBqY1Dk"
      },
      "source": [
        "class Adaptor(nn.Module):\n",
        "    def forward(self, x):\n",
        "        # IVO check out this too\n",
        "        # NB! It might be to adapt the img data to a sequentially processed one\n",
        "        # It might help you with passing it from the matrices\n",
        "        print(\"Before adapting\")\n",
        "        print(x.shape)\n",
        "        x = x.flatten(2,3).permute(0,2,1)\n",
        "\n",
        "        #assert False\n",
        "        return x.mul(8)\n",
        "        ## IVO\n",
        "        # return x OR\n",
        "        # return logit(x)"
      ],
      "execution_count": 49,
      "outputs": []
    },
    {
      "cell_type": "code",
      "metadata": {
        "ExecuteTime": {},
        "heading_collapsed": true,
        "hidden": true,
        "id": "hLYuNyT8Y1Dk"
      },
      "source": [
        "class WordTransformer(nn.Module):\n",
        "    def __init__(self, encoder, decoder, embeddings, generator):\n",
        "        super(WordTransformer, self).__init__()\n",
        "        self.encoder = encoder\n",
        "        self.w_decoder = decoder\n",
        "        self.embed = embeddings\n",
        "        self.generator = generator\n",
        "            \n",
        "    def forward(self, src, tgt):\n",
        "        print(src)\n",
        "        print(src.dtype)\n",
        "        tgt = rshift(tgt, 1).long()\n",
        "        mask = subsequent_mask(tgt.size(-1))\n",
        "        return self.w_decoder(self.embed(tgt), self.encoder(src), mask)\n",
        "\n",
        "    def generate(self, outs):\n",
        "        return self.generator(outs)"
      ],
      "execution_count": 50,
      "outputs": []
    },
    {
      "cell_type": "code",
      "metadata": {
        "ExecuteTime": {},
        "heading_collapsed": true,
        "hidden": true,
        "id": "5lk--n_pY1Dk"
      },
      "source": [
        "def make_full_model(vocab, d_model, N=4, drops=0, heads=8):\n",
        "    c = deepcopy\n",
        "    attn = MultiHeadedAttention(d_model, heads)\n",
        "    ff = PositionwiseFeedForward(d_model, drops)\n",
        "    \n",
        "    model = WordTransformer(\n",
        "        Encoder(EncoderLayer(d_model, c(attn), c(ff), drops), N),\n",
        "        Decoder(DecoderLayer(d_model, c(attn), c(attn), c(ff), drops), N),\n",
        "        LearnedPositionalEmbeddings(d_model, vocab, drops),  #word\n",
        "        nn.Linear(d_model, vocab),\n",
        "    )\n",
        "        \n",
        "    for p in model.parameters():\n",
        "        if p.dim() > 1:\n",
        "            nn.init.xavier_uniform_(p)\n",
        "                    \n",
        "    return model"
      ],
      "execution_count": 51,
      "outputs": []
    },
    {
      "cell_type": "code",
      "metadata": {
        "ExecuteTime": {},
        "heading_collapsed": true,
        "hidden": true,
        "id": "mfYur2DUY1Dk"
      },
      "source": [
        "class Img2Seq(nn.Module):\n",
        "    def __init__(self, img_encoder, adaptor, transformer):\n",
        "        super(Img2Seq, self).__init__()\n",
        "        self.img_enc = img_encoder\n",
        "        self.adaptor = adaptor\n",
        "        self.transformer = transformer\n",
        "        \n",
        "    def forward(self, src, tgt=None, seq_len=300):\n",
        "        if tgt is not None:   #train\n",
        "            feats = self.adaptor(self.img_enc(src))\n",
        "            print(\"Shape of input: \")\n",
        "            #print(src)\n",
        "            print(src.shape)\n",
        "\n",
        "            print(\"Shape of the features after adapting: \")\n",
        "            print(feats)\n",
        "            print(feats.shape)\n",
        "            # IVO Here is where you trace the data\n",
        "            outs = self.transformer(feats, tgt)\n",
        "            return self.transformer.generate(outs)\n",
        "        else:                 #predict\n",
        "            self.eval()\n",
        "            with torch.no_grad():\n",
        "                feats = self.transformer.encoder(self.adaptor(self.img_enc(src)))\n",
        "                tgt = torch.ones((src.size(0),1), dtype=torch.long, device=device)\n",
        "\n",
        "                res = []\n",
        "                for i in progress_bar(range(seq_len)):\n",
        "                    emb = self.transformer.embed(tgt)\n",
        "                    #mask = subsequent_mask(tgt.size(-1))\n",
        "                    dec_outs = self.transformer.w_decoder(emb, feats)#, mask)\n",
        "                    prob = self.transformer.generate(dec_outs[:,-1])\n",
        "                    res.append(prob)\n",
        "                    pred = torch.argmax(prob, dim=-1, keepdim=True)\n",
        "                    if (pred==0).all(): break\n",
        "                    tgt = torch.cat([tgt,pred], dim=-1)\n",
        "                return torch.stack(res).transpose(1,0).contiguous()"
      ],
      "execution_count": 52,
      "outputs": []
    },
    {
      "cell_type": "code",
      "metadata": {
        "ExecuteTime": {},
        "heading_collapsed": true,
        "hidden": true,
        "id": "cC0IYNBbY1Dk"
      },
      "source": [
        "def make_learner(data, d_model, em_sz, N=4, drops=0.1, heads=8, smoothing=0.1):\n",
        "    img_encoder = ResnetBase(em_sz)\n",
        "    ## IVO \n",
        "    ## em_sz is the output of the CNN or the dimension of the features\n",
        "    adaptor = Adaptor()\n",
        "    transformer = make_full_model(10000, d_model, N, drops, heads)\n",
        "    #net = Img2Seq(img_encoder, adaptor, transformer)\n",
        "    learn = Learner(data, transformer, loss_func=LabelSmoothing(smoothing), \n",
        "                    metrics=[CER(data.y.reconstruct)], callback_fns=[TeacherForce])  #remove for export\n",
        "    return learn"
      ],
      "execution_count": 53,
      "outputs": []
    },
    {
      "cell_type": "code",
      "metadata": {
        "id": "oY3RmJ9AdUwk"
      },
      "source": [
        "bs = 20\n",
        "emb_size = 128\n",
        "model_size = 128"
      ],
      "execution_count": 54,
      "outputs": []
    },
    {
      "cell_type": "code",
      "metadata": {
        "ExecuteTime": {},
        "heading_collapsed": true,
        "hidden": true,
        "id": "-cxbVhW1Y1Dk",
        "colab": {
          "base_uri": "https://localhost:8080/",
          "height": 67,
          "referenced_widgets": [
            "f57a0cad58f547778ec4af0f698e1d59",
            "f9ad7c764e734e989942e25b6a582bf1",
            "3057c04621a4486b93533abf5327bc97",
            "6609dd6a745d45e88974a2d6fc383dcb",
            "ff1822d117ed47d6baf2dff2403f958e",
            "cc1806d8abc44cdb9c181e4c15fbac7f",
            "93d93387e3d74f80b64ac90b9b83f898",
            "581685aa4be54b4ab76d01b26af00eb6",
            "9653a4378bf848ce87dad02cc4b226ab",
            "5596bf115a654f0b86e31ecad8681dcf",
            "4b98d7332cc24c8b8c74e2442a48c519"
          ]
        },
        "outputId": "ec1f610d-b046-4a58-c712-c59f29deab7a"
      },
      "source": [
        "learn = make_learner(data, model_size, emb_size, N=4, drops=0.1, heads=1)"
      ],
      "execution_count": 55,
      "outputs": [
        {
          "output_type": "stream",
          "name": "stderr",
          "text": [
            "Downloading: \"https://download.pytorch.org/models/resnet18-f37072fd.pth\" to /root/.cache/torch/hub/checkpoints/resnet18-f37072fd.pth\n"
          ]
        },
        {
          "output_type": "display_data",
          "data": {
            "application/vnd.jupyter.widget-view+json": {
              "model_id": "f57a0cad58f547778ec4af0f698e1d59",
              "version_minor": 0,
              "version_major": 2
            },
            "text/plain": [
              "  0%|          | 0.00/44.7M [00:00<?, ?B/s]"
            ]
          },
          "metadata": {}
        }
      ]
    },
    {
      "cell_type": "code",
      "metadata": {
        "ExecuteTime": {},
        "heading_collapsed": true,
        "hidden": true,
        "id": "irUxi6p0Y1Dk",
        "colab": {
          "base_uri": "https://localhost:8080/"
        },
        "outputId": "cca92279-9f0d-4bf4-9270-1ba1e6884de4"
      },
      "source": [
        "# number of trainable parameters\n",
        "sum(p.numel() for p in learn.model.parameters() if p.requires_grad)\n",
        "# 50,873,424"
      ],
      "execution_count": 56,
      "outputs": [
        {
          "output_type": "execute_result",
          "data": {
            "text/plain": [
              "4426704"
            ]
          },
          "metadata": {},
          "execution_count": 56
        }
      ]
    },
    {
      "cell_type": "code",
      "metadata": {
        "ExecuteTime": {},
        "heading_collapsed": true,
        "hidden": true,
        "id": "_ZQVPAUJY1Dk"
      },
      "source": [
        "# sd = torch.load(PATH/'models/font_sp10k.pth', map_location=device)\n",
        "# learn.model.load_state_dict(sd['model'], strict=False)"
      ],
      "execution_count": 57,
      "outputs": []
    },
    {
      "cell_type": "markdown",
      "metadata": {
        "id": "jkuiYTb3Y1Dk"
      },
      "source": [
        "## Combo Arch"
      ]
    },
    {
      "cell_type": "code",
      "metadata": {
        "ExecuteTime": {},
        "heading_collapsed": true,
        "hidden": true,
        "id": "N2jZQvCbY1Dl",
        "colab": {
          "base_uri": "https://localhost:8080/",
          "height": 235
        },
        "outputId": "a66e7940-a7e8-44d3-fc2f-526645c58b26"
      },
      "source": [
        "assert False\n",
        "class LearnedPositionalEmbeddings(nn.Module):\n",
        "    def __init__(self, d_model, vocab, rows, cols, dropout=0.1):\n",
        "        super(LearnedPositionalEmbeddings, self).__init__()\n",
        "        self.nl_tok  = 4\n",
        "        self.d_model = d_model\n",
        "        \n",
        "        self.embed = nn.Embedding(vocab, d_model, 0)\n",
        "        self.rows = nn.Embedding(15, d_model//2, 0)\n",
        "        self.c_cols = nn.Embedding(cols[0], d_model//2, 0)\n",
        "        self.w_cols = nn.Embedding(cols[1], d_model//2, 0)\n",
        "\n",
        "        self.dropout = nn.Dropout(p=dropout)\n",
        "\n",
        "    def forward(self, char, word):\n",
        "        return self.encode_one(char, 'char'), self.encode_one(word, 'word')\n",
        "    \n",
        "    def encode_one(self, x, kind):\n",
        "        rows,cols = self.encode_spatial_positions(x)\n",
        "        \n",
        "        x_cols = self.c_cols if kind=='char' else self.w_cols\n",
        "\n",
        "        row_t = self.rows(rows)            \n",
        "        col_t = x_cols(torch.clamp(cols, max=x_cols.num_embeddings-1))  # clamp to max column value\n",
        "        pos_enc = torch.cat((row_t, col_t), dim=-1)\n",
        "                \n",
        "        x = self.embed(x)\n",
        "        x = (x + pos_enc) * math.sqrt(self.d_model)\n",
        "        return self.dropout(x)\n",
        "    \n",
        "    def encode_spatial_positions(self, x):\n",
        "        rows,cols = torch.zeros_like(x),torch.zeros_like(x)\n",
        "        for ii,batch in enumerate(x.unbind()):\n",
        "            nls = torch.nonzero(batch==self.nl_tok).flatten()\n",
        "            last = torch.nonzero(batch).flatten()[-1][None]\n",
        "            splits = torch.cat([nls,last])\n",
        "\n",
        "            p=0\n",
        "            for i,n in enumerate(splits, start=1):\n",
        "                rows[ii,p:n+1] = i\n",
        "                cols[ii,p:n+1] = torch.arange(1,n-p+2)\n",
        "                p = n+1\n",
        "        return rows,cols"
      ],
      "execution_count": 58,
      "outputs": [
        {
          "output_type": "error",
          "ename": "AssertionError",
          "evalue": "ignored",
          "traceback": [
            "\u001b[0;31m---------------------------------------------------------------------------\u001b[0m",
            "\u001b[0;31mAssertionError\u001b[0m                            Traceback (most recent call last)",
            "\u001b[0;32m<ipython-input-58-26d546153b5c>\u001b[0m in \u001b[0;36m<module>\u001b[0;34m()\u001b[0m\n\u001b[0;32m----> 1\u001b[0;31m \u001b[0;32massert\u001b[0m \u001b[0;32mFalse\u001b[0m\u001b[0;34m\u001b[0m\u001b[0;34m\u001b[0m\u001b[0m\n\u001b[0m\u001b[1;32m      2\u001b[0m \u001b[0;32mclass\u001b[0m \u001b[0mLearnedPositionalEmbeddings\u001b[0m\u001b[0;34m(\u001b[0m\u001b[0mnn\u001b[0m\u001b[0;34m.\u001b[0m\u001b[0mModule\u001b[0m\u001b[0;34m)\u001b[0m\u001b[0;34m:\u001b[0m\u001b[0;34m\u001b[0m\u001b[0;34m\u001b[0m\u001b[0m\n\u001b[1;32m      3\u001b[0m     \u001b[0;32mdef\u001b[0m \u001b[0m__init__\u001b[0m\u001b[0;34m(\u001b[0m\u001b[0mself\u001b[0m\u001b[0;34m,\u001b[0m \u001b[0md_model\u001b[0m\u001b[0;34m,\u001b[0m \u001b[0mvocab\u001b[0m\u001b[0;34m,\u001b[0m \u001b[0mrows\u001b[0m\u001b[0;34m,\u001b[0m \u001b[0mcols\u001b[0m\u001b[0;34m,\u001b[0m \u001b[0mdropout\u001b[0m\u001b[0;34m=\u001b[0m\u001b[0;36m0.1\u001b[0m\u001b[0;34m)\u001b[0m\u001b[0;34m:\u001b[0m\u001b[0;34m\u001b[0m\u001b[0;34m\u001b[0m\u001b[0m\n\u001b[1;32m      4\u001b[0m         \u001b[0msuper\u001b[0m\u001b[0;34m(\u001b[0m\u001b[0mLearnedPositionalEmbeddings\u001b[0m\u001b[0;34m,\u001b[0m \u001b[0mself\u001b[0m\u001b[0;34m)\u001b[0m\u001b[0;34m.\u001b[0m\u001b[0m__init__\u001b[0m\u001b[0;34m(\u001b[0m\u001b[0;34m)\u001b[0m\u001b[0;34m\u001b[0m\u001b[0;34m\u001b[0m\u001b[0m\n\u001b[1;32m      5\u001b[0m         \u001b[0mself\u001b[0m\u001b[0;34m.\u001b[0m\u001b[0mnl_tok\u001b[0m  \u001b[0;34m=\u001b[0m \u001b[0;36m4\u001b[0m\u001b[0;34m\u001b[0m\u001b[0;34m\u001b[0m\u001b[0m\n",
            "\u001b[0;31mAssertionError\u001b[0m: "
          ]
        }
      ]
    },
    {
      "cell_type": "code",
      "metadata": {
        "ExecuteTime": {},
        "heading_collapsed": true,
        "hidden": true,
        "id": "rJmqqyoVY1Dl"
      },
      "source": [
        "class ResnetBase(nn.Module):\n",
        "    def __init__(self, em_sz):\n",
        "        super().__init__()\n",
        "        \n",
        "        slices = {128: -4, 256: -3, 512: -2}\n",
        "        s = slices[em_sz]\n",
        "\n",
        "        net = models.resnet18(True)\n",
        "        modules = list(net.children())[:s]\n",
        "        self.base = nn.Sequential(*modules)                  #32x32 : 256\n",
        "        \n",
        "    def forward(self, x):\n",
        "        return self.base(x)"
      ],
      "execution_count": null,
      "outputs": []
    },
    {
      "cell_type": "code",
      "metadata": {
        "ExecuteTime": {},
        "heading_collapsed": true,
        "hidden": true,
        "id": "xJ1AiEKEY1Dl"
      },
      "source": [
        "class Adaptor(nn.Module):\n",
        "    def forward(self, x):\n",
        "        x = x.flatten(2,3).permute(0,2,1)\n",
        "        return x.mul(8)"
      ],
      "execution_count": null,
      "outputs": []
    },
    {
      "cell_type": "code",
      "metadata": {
        "ExecuteTime": {},
        "heading_collapsed": true,
        "hidden": true,
        "id": "Mvk7xpOiY1Dl"
      },
      "source": [
        "class WordCharTransformer(nn.Module):\n",
        "    def __init__(self, encoder, c_dec, w_dec, embeddings, generator):\n",
        "        super(WordCharTransformer, self).__init__()\n",
        "        self.encoder = encoder\n",
        "        self.c_decoder = c_dec\n",
        "        self.w_decoder = w_dec\n",
        "        self.embed = embeddings\n",
        "        self.generator = generator\n",
        "    \n",
        "    def forward(self, src, mix_tgt):\n",
        "        c_tgt,w_tgt,c_mask,w_mask = self.shift_with_masks(mix_tgt)\n",
        "        c_emb,w_emb = self.embed(c_tgt, w_tgt)\n",
        "        feats = self.encoder(src)\n",
        "        char_outs = self.c_decoder(c_emb, feats, c_mask)\n",
        "        word_outs = self.w_decoder(w_emb, feats, w_mask)\n",
        "        return char_outs, word_outs\n",
        "        \n",
        "    def generate(self, c_outs, w_outs):\n",
        "        return self.generator(c_outs), self.generator(w_outs)\n",
        "        \n",
        "    def shift_with_masks(self, mix_tgt):\n",
        "        c_tgt,w_tgt = mix_tgt\n",
        "        c_tgt = rshift(c_tgt, 1).long()\n",
        "        w_tgt = rshift(w_tgt, 1).long()\n",
        "        \n",
        "#         c_mask = parallelogram_mask(c_tgt.size(-1), 20)   # char needs word context\n",
        "#         w_mask = parallelogram_mask(w_tgt.size(-1), 20)   # word needs sentence context\n",
        "        c_mask = subsequent_mask(c_tgt.size(-1)) \n",
        "        w_mask = subsequent_mask(w_tgt.size(-1)) \n",
        "        return c_tgt,w_tgt,c_mask,w_mask"
      ],
      "execution_count": null,
      "outputs": []
    },
    {
      "cell_type": "code",
      "metadata": {
        "ExecuteTime": {},
        "heading_collapsed": true,
        "hidden": true,
        "id": "ThtY84--Y1Dl"
      },
      "source": [
        "def make_full_model(vocab, d_model, N=4, drops=0, heads=8):\n",
        "    c = deepcopy\n",
        "    attn = MultiHeadedAttention(d_model, heads)\n",
        "    ff = PositionwiseFeedForward(d_model, drops)\n",
        "    \n",
        "    model = WordCharTransformer(\n",
        "        Encoder(EncoderLayer(d_model, c(attn), c(ff), drops), N),\n",
        "        Decoder(DecoderLayer(d_model, c(attn), c(attn), c(ff), drops), N),\n",
        "        Decoder(DecoderLayer(d_model, c(attn), c(attn), c(ff), drops), N),\n",
        "        LearnedPositionalEmbeddings(d_model, vocab, rows=15, cols=[100,60]),\n",
        "        nn.Linear(d_model, vocab),\n",
        "    )\n",
        "        \n",
        "    for p in model.parameters():\n",
        "        if p.dim() > 1:\n",
        "            nn.init.xavier_uniform_(p)\n",
        "                    \n",
        "    return model"
      ],
      "execution_count": null,
      "outputs": []
    },
    {
      "cell_type": "code",
      "metadata": {
        "ExecuteTime": {},
        "heading_collapsed": true,
        "hidden": true,
        "id": "WyxJLrpuY1Dl"
      },
      "source": [
        "class Img2Seq(nn.Module):\n",
        "    def __init__(self, img_encoder, adaptor, transformer):\n",
        "        super(Img2Seq, self).__init__()\n",
        "        self.img_enc = img_encoder\n",
        "        self.adaptor = adaptor\n",
        "        self.transformer = transformer\n",
        "        \n",
        "    def forward(self, src, tgt):\n",
        "        feats = self.adaptor(self.img_enc(src))\n",
        "        char_outs, word_outs = self.transformer(feats, tgt)\n",
        "        return self.transformer.generate(char_outs, word_outs)"
      ],
      "execution_count": null,
      "outputs": []
    },
    {
      "cell_type": "code",
      "metadata": {
        "ExecuteTime": {},
        "heading_collapsed": true,
        "hidden": true,
        "id": "Kd8PRiPSY1Dl"
      },
      "source": [
        "class MultiCER(LearnerCallback):\n",
        "    _order=-20 # Needs to run before the recorder\n",
        "    def __init__(self, learn):\n",
        "        super().__init__(learn)\n",
        "        self.recon = learn.data.y.reconstruct_one\n",
        "\n",
        "    def on_train_begin(self, **kwargs):\n",
        "        self.learn.recorder.add_metric_names(['char', 'word'])\n",
        "            \n",
        "    def on_batch_end(self, last_output, last_target, **kwargs):\n",
        "        c_out, w_out = last_output\n",
        "        c_targ, w_targ = last_target\n",
        "        c_error,size = cer(c_out, c_targ, self.recon)\n",
        "        w_error,_    = cer(w_out, w_targ, self.recon)\n",
        "        self.c_errors += c_error\n",
        "        self.w_errors += w_error\n",
        "        self.total += size\n",
        "        \n",
        "    def on_epoch_begin(self, **kwargs):\n",
        "        self.c_errors, self.w_errors, self.total = 0, 0, 0\n",
        "\n",
        "    def on_epoch_end(self, last_metrics, **kwargs):\n",
        "        return add_metrics(last_metrics, [self.c_errors/self.total, self.w_errors/self.total])"
      ],
      "execution_count": null,
      "outputs": []
    },
    {
      "cell_type": "code",
      "metadata": {
        "ExecuteTime": {},
        "heading_collapsed": true,
        "hidden": true,
        "id": "X39UV9m5Y1Dl"
      },
      "source": [
        "class MultiLabelSmoothing(nn.Module):\n",
        "    def __init__(self, smoothing=0.1):\n",
        "        super(MultiLabelSmoothing, self).__init__()\n",
        "        self.smoothing = smoothing\n",
        "        \n",
        "    def forward(self, pred, c_targ, w_targ):\n",
        "        loss = LabelSmoothing(self.smoothing)\n",
        "        cl = loss(pred[0], c_targ)\n",
        "        wl = loss(pred[1], w_targ)\n",
        "        #print(f'char loss: {cl}  word_loss: {wl}')\n",
        "        return cl + wl"
      ],
      "execution_count": null,
      "outputs": []
    },
    {
      "cell_type": "code",
      "metadata": {
        "ExecuteTime": {},
        "heading_collapsed": true,
        "hidden": true,
        "id": "_pGdeWJsY1Dm"
      },
      "source": [
        "def make_learner(data, d_model, em_sz, N=4, drops=0.1, heads=8, smoothing=0.1):\n",
        "    img_encoder = ResnetBase(em_sz)\n",
        "    adaptor = Adaptor()\n",
        "    transformer = make_full_model(len(data.vocab), d_model, N, drops, heads)\n",
        "    net = Img2Seq(img_encoder, adaptor, transformer)\n",
        "    learn = Learner(data, net, loss_func=MultiLabelSmoothing(smoothing),\n",
        "                    callback_fns=[TeacherForce, MultiCER])\n",
        "    return learn"
      ],
      "execution_count": null,
      "outputs": []
    },
    {
      "cell_type": "code",
      "metadata": {
        "ExecuteTime": {},
        "heading_collapsed": true,
        "hidden": true,
        "id": "oHxjOtLpY1Dm"
      },
      "source": [
        "learn = make_learner(data, 512, 512, N=4, drops=0.1, heads=8)"
      ],
      "execution_count": null,
      "outputs": []
    },
    {
      "cell_type": "code",
      "metadata": {
        "ExecuteTime": {},
        "heading_collapsed": true,
        "hidden": true,
        "id": "vzPj0tFKY1Dm"
      },
      "source": [
        "# number of trainable parameters\n",
        "sum(p.numel() for p in learn.model.parameters() if p.requires_grad)"
      ],
      "execution_count": null,
      "outputs": []
    },
    {
      "cell_type": "markdown",
      "metadata": {
        "heading_collapsed": true,
        "id": "fTUO-DYbY1Dm"
      },
      "source": [
        "# Train"
      ]
    },
    {
      "cell_type": "code",
      "metadata": {
        "ExecuteTime": {},
        "heading_collapsed": true,
        "hidden": true,
        "id": "bR5Q1ve2Y1Dm"
      },
      "source": [
        "learn.recorder.plot(suggestion=True)\n",
        "#learn.load('hw_sp10k'); None"
      ],
      "execution_count": null,
      "outputs": []
    },
    {
      "cell_type": "code",
      "metadata": {
        "id": "EqYksqE5EDux"
      },
      "source": [
        ""
      ],
      "execution_count": null,
      "outputs": []
    },
    {
      "cell_type": "code",
      "metadata": {
        "ExecuteTime": {},
        "heading_collapsed": true,
        "hidden": true,
        "id": "doZvRJ6cY1Dm"
      },
      "source": [
        "learn.lr_find()\n",
        "learn.recorder.plot(suggestion=True)"
      ],
      "execution_count": null,
      "outputs": []
    },
    {
      "cell_type": "code",
      "metadata": {
        "ExecuteTime": {},
        "heading_collapsed": true,
        "hidden": true,
        "id": "bmCfYg0FY1Dm"
      },
      "source": [
        "lrs = 1e-4"
      ],
      "execution_count": null,
      "outputs": []
    },
    {
      "cell_type": "code",
      "metadata": {
        "ExecuteTime": {},
        "heading_collapsed": true,
        "hidden": true,
        "id": "aJ5576eSY1Dm"
      },
      "source": [
        "learn.fit_one_cycle(3, max_lr=lrs, callbacks=[SaveModelCallback(learn, name='word_hw_sp10k')])\n",
        "\n",
        "# arch: (512, 512, N=4, drops=0.1, heads=8); subsequent_masks; lpe\n",
        "# sentence_piece10k\n",
        "\n",
        "# data: small dataset, sz:256, bs:50\n",
        "\n",
        "# combo, 67.7M, 5cycle(1e-3)   \n",
        "# 10.024531\t10.917119\t0.059539\t0.100420\t08:22\n",
        "# chars:    1.71376   .10433\n",
        "# words:    1.56690   .06228\n",
        "\n",
        "\n",
        "# data: font generated, sz:512, bs:15\n",
        "\n",
        "# combo, 67.7M, 3cycle(1e-3)\n",
        "# 31.972498\t28.244387\t0.017639\t0.037072\t1:45:40   'font_sp10k'\n",
        "# chars:    32.2701   .01937\n",
        "# words:    41.7109   .02917\n",
        "\n",
        "\n",
        "# data: handwriting, sz:512, bs:15\n",
        "\n",
        "# combo, 67.7M, 5cycle(1e-3)\n",
        "# 14.077939\t11.943507\t0.006205\t0.003816\t21:38   'hw_sp10k'\n",
        "# chars:    50.1363   .00435\n",
        "# words:    5.17031   .00043\n",
        "# test pg:\n",
        "# chars:    144.698   .03923\n",
        "# words:    80.1309   .04630\n",
        "# test upload:\n",
        "# chars:    129.044   .26124\n",
        "# words:    61.2923   .30572\n",
        "\n",
        "\n",
        "# combo, 2cycle(1e-4), preload hw_sp10k\n",
        "# 12.602509\t11.120279\t0.005010\t0.002936\t20:04    'hw_sp10k5'\n",
        "# test pg:\n",
        "# chars:    152.536   .03506\n",
        "# words:    86.5458   .04597\n",
        "# test upload:\n",
        "# chars:    131.504   .35796\n",
        "# words:    59.7730   .27973\n",
        "\n",
        "# word only, 3cycle(1e-4), preload hw_sp10k\n",
        "# 6.081270\t6.041916\t0.000911\t14:51    'word_hw_sp10k' ****\n",
        "#     pg:    82.7050   .04591\n",
        "#     pg:    83.1463   .04556  no mask\n",
        "# upload:    64.2214   .31966\n",
        "# upload:    61.1524   .30548  no mask"
      ],
      "execution_count": null,
      "outputs": []
    },
    {
      "cell_type": "markdown",
      "metadata": {
        "heading_collapsed": true,
        "id": "mTXTWgIOY1Dm"
      },
      "source": [
        "# View Model Telemetry"
      ]
    },
    {
      "cell_type": "code",
      "metadata": {
        "ExecuteTime": {},
        "heading_collapsed": true,
        "hidden": true,
        "id": "WuXFMPBfY1Dn"
      },
      "source": [
        "class FullStats(HookCallback):\n",
        "    def on_train_begin(self, **kwargs):\n",
        "        self.modules = [m for m in flatten_model(self.learn.model) if hasattr(m, 'weight')]\n",
        "        self.g_hooks = Hooks(self.modules, self.g_hook, is_forward=False)\n",
        "        self.a_hooks = Hooks(self.modules, self.a_hook)\n",
        "        self.grads,self.acts = [],[]\n",
        "\n",
        "    def g_hook(self, m:nn.Module, i:Tensors, o:Tensors)->Tuple[Rank0Tensor,Rank0Tensor]:\n",
        "        oo = next(o)\n",
        "        return oo.mean().item(),oo.std().item()\n",
        "    \n",
        "    def a_hook(self, m:nn.Module, i:Tensors, o:Tensors)->Tuple[Rank0Tensor,Rank0Tensor]:\n",
        "        return o.mean().item(),o.std().item()\n",
        "\n",
        "    def on_batch_end(self, train, **kwargs):\n",
        "        if train:\n",
        "            self.acts.append(self.a_hooks.stored)\n",
        "            self.grads.append(self.g_hooks.stored)\n",
        "            \n",
        "    def on_train_end(self, **kwargs):\n",
        "        self.a_hooks.remove()\n",
        "        self.g_hooks.remove()\n",
        "        self.acts = tensor(self.acts).permute(2,1,0)\n",
        "        self.grads = tensor(self.grads).permute(2,1,0)"
      ],
      "execution_count": null,
      "outputs": []
    },
    {
      "cell_type": "code",
      "metadata": {
        "ExecuteTime": {},
        "heading_collapsed": true,
        "hidden": true,
        "id": "tFGysCMfY1Dn"
      },
      "source": [
        "learn.fit(1, 1e-5, callbacks=[FullStats(learn)])#, StopAfterNBatches(n_batches=2)])"
      ],
      "execution_count": null,
      "outputs": []
    },
    {
      "cell_type": "code",
      "metadata": {
        "ExecuteTime": {},
        "heading_collapsed": true,
        "hidden": true,
        "id": "75dw6B4pY1Dn"
      },
      "source": [
        "acts,grads = learn.full_stats.acts, learn.full_stats.grads\n",
        "acts.shape,grads.shape"
      ],
      "execution_count": null,
      "outputs": []
    },
    {
      "cell_type": "code",
      "metadata": {
        "ExecuteTime": {},
        "heading_collapsed": true,
        "hidden": true,
        "id": "26KCVKFDY1Dn"
      },
      "source": [
        "names=[]\n",
        "for name, param in learn.model.named_parameters():\n",
        "    if name.endswith('weight'):\n",
        "        names.append(name)\n",
        "\n",
        "names.insert(193, 'transformer.w_embed.embed.weight')\n",
        "names.insert(194, 'transformer.w_embed.rows.weight')\n",
        "len(names)"
      ],
      "execution_count": null,
      "outputs": []
    },
    {
      "cell_type": "code",
      "metadata": {
        "ExecuteTime": {},
        "heading_collapsed": true,
        "hidden": true,
        "id": "0LQYas4XY1Dn"
      },
      "source": [
        "# :64     img_enc\n",
        "# 64:67   adaptor\n",
        "# 67:84   encoder\n",
        "# 84:137  c_decoder\n",
        "# 137:190 w_decoder\n",
        "# 190:    embeddings/generator\n",
        "\n",
        "plt.figure(figsize=(20,10))\n",
        "for l in acts[1,137:190]:\n",
        "    plt.plot(l)\n",
        "plt.legend(names[137:190])"
      ],
      "execution_count": null,
      "outputs": []
    },
    {
      "cell_type": "code",
      "metadata": {
        "ExecuteTime": {},
        "heading_collapsed": true,
        "hidden": true,
        "id": "EdMXve8gY1Dn"
      },
      "source": [
        "avg_act_stds_by_layer = acts[1,:].mean(-1)\n",
        "avg_grad_stds_by_layer = grads[1,:].mean(-1)"
      ],
      "execution_count": null,
      "outputs": []
    },
    {
      "cell_type": "code",
      "metadata": {
        "ExecuteTime": {},
        "heading_collapsed": true,
        "hidden": true,
        "id": "1jZPeldcY1Dn"
      },
      "source": [
        "plt.plot(avg_act_stds_by_layer)"
      ],
      "execution_count": null,
      "outputs": []
    },
    {
      "cell_type": "code",
      "metadata": {
        "ExecuteTime": {},
        "heading_collapsed": true,
        "hidden": true,
        "id": "3bhFRcfWY1Do"
      },
      "source": [
        "plt.plot(avg_grad_stds_by_layer)"
      ],
      "execution_count": null,
      "outputs": []
    },
    {
      "cell_type": "code",
      "metadata": {
        "ExecuteTime": {},
        "heading_collapsed": true,
        "hidden": true,
        "id": "wnG8m8SyY1Do"
      },
      "source": [
        "for (i,mod),a,g in zip(enumerate(names), avg_act_stds_by_layer, avg_grad_stds_by_layer):\n",
        "    mod_name = str(mod).split('(')[0]\n",
        "    print(f\"{str(i).ljust(3)} {mod_name.ljust(60)} \\\n",
        "            {str(round(a.item(),5)).ljust(6)} {str(round(g.item(),5)).ljust(6)}\")"
      ],
      "execution_count": null,
      "outputs": []
    },
    {
      "cell_type": "code",
      "metadata": {
        "ExecuteTime": {},
        "heading_collapsed": true,
        "hidden": true,
        "id": "UGhSFbRQY1Dp"
      },
      "source": [
        "# Last batch activations by layer\n",
        "\n",
        "for (i,mod),m,s in zip(enumerate(names), acts[0,:,-1], acts[1,:,-1]):\n",
        "    mod_name = str(mod).split('(')[0]\n",
        "    print(f\"{str(i).ljust(3)} {mod_name.ljust(50)} \\\n",
        "            {str(round(m.item(),5)).ljust(6)}  {str(round(s.item(),5)).ljust(6)}\")"
      ],
      "execution_count": null,
      "outputs": []
    },
    {
      "cell_type": "markdown",
      "metadata": {
        "id": "2qwiuKHSY1Dp"
      },
      "source": [
        "# Char/Word Greedy results"
      ]
    },
    {
      "cell_type": "code",
      "metadata": {
        "ExecuteTime": {},
        "heading_collapsed": true,
        "hidden": true,
        "id": "Iw-4vgOJY1Dp"
      },
      "source": [
        "def greedy_decode(src, model, seq_len, kind='char', bos_tok=1):\n",
        "    model.eval()\n",
        "    tfmr = model.transformer\n",
        "    img_enc = model.img_enc\n",
        "    adaptor = model.adaptor\n",
        "    decoder = tfmr.c_decoder if kind=='char' else tfmr.w_decoder\n",
        "    \n",
        "    with torch.no_grad():\n",
        "        feats = tfmr.encoder(adaptor(img_enc(src)))\n",
        "        bs = src.size(0)\n",
        "        tgt = torch.zeros((bs,1), dtype=torch.long, device=device) + bos_tok\n",
        "\n",
        "        res = []\n",
        "        for i in progress_bar(range(seq_len)):\n",
        "            mask = subsequent_mask(tgt.size(-1))\n",
        "            emb = tfmr.embed.encode_one(tgt, kind)\n",
        "#             emb = tfmr.embed(tgt)\n",
        "            \n",
        "            dec_outs = decoder(emb, feats, mask)\n",
        "            prob = tfmr.generator(dec_outs[:,-1])\n",
        "            res.append(prob)\n",
        "            pred = torch.argmax(prob, dim=-1, keepdim=True)\n",
        "            if (pred==0).all(): break\n",
        "            tgt = torch.cat([tgt,pred], dim=-1)\n",
        "        out = torch.stack(res).transpose(1,0).contiguous()\n",
        "        return out"
      ],
      "execution_count": null,
      "outputs": []
    },
    {
      "cell_type": "code",
      "metadata": {
        "ExecuteTime": {},
        "heading_collapsed": true,
        "hidden": true,
        "id": "C6BUuXCjY1Dp"
      },
      "source": [
        "vdl = iter(learn.data.valid_dl)"
      ],
      "execution_count": null,
      "outputs": []
    },
    {
      "cell_type": "code",
      "metadata": {
        "ExecuteTime": {},
        "heading_collapsed": true,
        "hidden": true,
        "id": "hT0sHLt1Y1Dp"
      },
      "source": [
        "x,y = next(vdl)"
      ],
      "execution_count": null,
      "outputs": []
    },
    {
      "cell_type": "markdown",
      "metadata": {
        "heading_collapsed": true,
        "id": "SiBV44AXY1Dp"
      },
      "source": [
        "### Single Word"
      ]
    },
    {
      "cell_type": "code",
      "metadata": {
        "ExecuteTime": {},
        "heading_collapsed": true,
        "hidden": true,
        "id": "dSoNNaHYY1Dp"
      },
      "source": [
        "# g_preds = greedy_decode(x, learn.model, word_len, 'word', 1)\n",
        "g_preds = learn.model(x)\n",
        "g_res = torch.argmax(g_preds, dim=-1)\n",
        "g = [learn.loss_func(g_preds, y).item()/bs, cer(g_preds, y, data.y.reconstruct)[0]/bs]\n",
        "print(f'greedy:    {str(g[0])[:7]}   {str(g[1])[1:7]}')"
      ],
      "execution_count": null,
      "outputs": []
    },
    {
      "cell_type": "code",
      "metadata": {
        "ExecuteTime": {},
        "heading_collapsed": true,
        "hidden": true,
        "id": "ragXd-6RY1Dp"
      },
      "source": [
        "#greedy\n",
        "fig, axes = plt.subplots(2,2, gridspec_kw={'hspace': 0.4}, figsize=(18, 20))\n",
        "for i,ax in enumerate(axes.flat):\n",
        "    #i += 8\n",
        "    p = data.y.reconstruct(g_res[i])\n",
        "    ax=show_img(x[i], ax=ax, title=p)"
      ],
      "execution_count": null,
      "outputs": []
    },
    {
      "cell_type": "markdown",
      "metadata": {
        "heading_collapsed": true,
        "id": "9OXCnHqEY1Dp"
      },
      "source": [
        "### Single Char"
      ]
    },
    {
      "cell_type": "code",
      "metadata": {
        "ExecuteTime": {},
        "heading_collapsed": true,
        "hidden": true,
        "id": "Cm80IhT9Y1Dp"
      },
      "source": [
        "g_preds = greedy_decode(x, learn.model, seq_len, 'char')\n",
        "g_res = torch.argmax(g_preds, dim=-1)\n",
        "g = [learn.loss_func(g_preds, y).item()/bs, cer(g_preds, y, data.y.reconstruct)[0]/bs]\n",
        "print(f'greedy:    {str(g[0])[:7]}   {str(g[1])[1:7]}')"
      ],
      "execution_count": null,
      "outputs": []
    },
    {
      "cell_type": "code",
      "metadata": {
        "ExecuteTime": {},
        "heading_collapsed": true,
        "hidden": true,
        "id": "4qjiKdH-Y1Dq"
      },
      "source": [
        "#greedy\n",
        "fig, axes = plt.subplots(2,2, gridspec_kw={'hspace': 0.4}, figsize=(18, 20))\n",
        "for i,ax in enumerate(axes.flat):\n",
        "    p = data.y.reconstruct(g_res[i])\n",
        "    ax=show_img(x[i], ax=ax, title=p)"
      ],
      "execution_count": null,
      "outputs": []
    },
    {
      "cell_type": "markdown",
      "metadata": {
        "ExecuteTime": {
          "end_time": "2019-11-01T17:02:56.281776Z",
          "start_time": "2019-11-01T17:02:53.656973Z"
        },
        "heading_collapsed": true,
        "id": "3U_g3-wrY1Dq"
      },
      "source": [
        "### Combo Chars"
      ]
    },
    {
      "cell_type": "code",
      "metadata": {
        "ExecuteTime": {},
        "heading_collapsed": true,
        "hidden": true,
        "id": "uDVBAqMtY1Dq"
      },
      "source": [
        "g_preds = greedy_decode(x, learn.model, seq_len, 'char', 1)\n",
        "g_res = torch.argmax(g_preds, dim=-1)\n",
        "loss_func = LabelSmoothing()\n",
        "g = [loss_func(g_preds, y[0]).item()/bs, cer(g_preds, y[0], data.y.reconstruct_one)[0]/bs]\n",
        "print(f'greedy:    {str(g[0])[:7]}   {str(g[1])[1:7]}')"
      ],
      "execution_count": null,
      "outputs": []
    },
    {
      "cell_type": "code",
      "metadata": {
        "ExecuteTime": {},
        "heading_collapsed": true,
        "hidden": true,
        "id": "D_zPbqpmY1Dq"
      },
      "source": [
        "#greedy\n",
        "fig, axes = plt.subplots(3,2, gridspec_kw={'hspace': 0.4}, figsize=(18, 20))\n",
        "for i,ax in enumerate(axes.flat):\n",
        "    p = data.y.reconstruct_one(g_res[i])\n",
        "    ax=show_img(x[i], ax=ax, title=p)"
      ],
      "execution_count": null,
      "outputs": []
    },
    {
      "cell_type": "markdown",
      "metadata": {
        "ExecuteTime": {
          "end_time": "2019-11-01T17:02:56.281776Z",
          "start_time": "2019-11-01T17:02:53.656973Z"
        },
        "heading_collapsed": true,
        "id": "CwSKmwgXY1Dq"
      },
      "source": [
        "### Combo Words"
      ]
    },
    {
      "cell_type": "code",
      "metadata": {
        "ExecuteTime": {},
        "heading_collapsed": true,
        "hidden": true,
        "id": "sge-45WkY1Dq"
      },
      "source": [
        "g_preds = greedy_decode(x, learn.model, word_len, 'word', 1, lm=False)\n",
        "g_res = torch.argmax(g_preds, dim=-1)\n",
        "loss_func = LabelSmoothing()\n",
        "g = [loss_func(g_preds, y[1]).item()/bs, cer(g_preds, y[1], data.y.reconstruct_one)[0]/bs]\n",
        "print(f'greedy:    {str(g[0])[:7]}   {str(g[1])[1:7]}')"
      ],
      "execution_count": null,
      "outputs": []
    },
    {
      "cell_type": "code",
      "metadata": {
        "ExecuteTime": {},
        "heading_collapsed": true,
        "hidden": true,
        "scrolled": true,
        "id": "cbniKs5eY1Dq"
      },
      "source": [
        "#greedy\n",
        "fig, axes = plt.subplots(3,2, gridspec_kw={'hspace': 0.4}, figsize=(18, 20))\n",
        "for i,ax in enumerate(axes.flat):\n",
        "    p = data.y.reconstruct_one(g_res[i])\n",
        "    ax=show_img(x[i], ax=ax, title=p)"
      ],
      "execution_count": null,
      "outputs": []
    },
    {
      "cell_type": "markdown",
      "metadata": {
        "id": "7yli2i_QY1Dq"
      },
      "source": [
        "# Test Datasets"
      ]
    },
    {
      "cell_type": "code",
      "metadata": {
        "ExecuteTime": {},
        "heading_collapsed": true,
        "hidden": true,
        "id": "cI4do9JyY1Dr"
      },
      "source": [
        "FOLDER = 'uploads'\n",
        "df = pd.read_csv(PATH/'uploads.csv')\n",
        "len(df)\n",
        "\n",
        "sz,bs = 512,14\n",
        "seq_len = 700"
      ],
      "execution_count": null,
      "outputs": []
    },
    {
      "cell_type": "code",
      "metadata": {
        "ExecuteTime": {},
        "heading_collapsed": true,
        "hidden": true,
        "id": "BICcLG3zY1Dr"
      },
      "source": [
        "FOLDER = 'paragraphs'\n",
        "df = pd.read_csv(PATH/'test_pg.csv')\n",
        "len(df)\n",
        "\n",
        "sz,bs = 512,15\n",
        "seq_len = 700"
      ],
      "execution_count": null,
      "outputs": []
    },
    {
      "cell_type": "code",
      "metadata": {
        "ExecuteTime": {},
        "heading_collapsed": true,
        "hidden": true,
        "id": "8Fac9J0OY1Dr"
      },
      "source": [
        "# sentencepiece combo\n",
        "test_data = (ImageMultiList.from_df(df, path=PATH, folder=FOLDER, after_open=force_gray)\n",
        "        .split_none()\n",
        "        .label_from_df(label_cls=SPMMultiList, sp=sp)\n",
        "        .transform([], size=sz, resize_method=ResizeMethod.SQUISH)\n",
        "        .databunch(bs=bs, device=device, collate_fn=multi_label_collater)\n",
        "       )"
      ],
      "execution_count": null,
      "outputs": []
    },
    {
      "cell_type": "code",
      "metadata": {
        "ExecuteTime": {},
        "heading_collapsed": true,
        "hidden": true,
        "id": "L5KBKiPRY1Dr"
      },
      "source": [
        "# sentencepiece word\n",
        "test_data = (ImageList.from_df(df, path=PATH, folder=FOLDER, after_open=force_gray)\n",
        "        .split_none()\n",
        "        .label_from_df(label_cls=SPList)\n",
        "        .transform([], size=sz, resize_method=ResizeMethod.SQUISH)\n",
        "        .databunch(bs=bs, device=device, collate_fn=label_collater)\n",
        "       )"
      ],
      "execution_count": null,
      "outputs": []
    },
    {
      "cell_type": "code",
      "metadata": {
        "ExecuteTime": {},
        "heading_collapsed": true,
        "hidden": true,
        "id": "L1gk39haY1Dr"
      },
      "source": [
        "x,y = next(iter(test_data.train_dl))"
      ],
      "execution_count": null,
      "outputs": []
    },
    {
      "cell_type": "markdown",
      "metadata": {
        "ExecuteTime": {},
        "id": "swNWmpr6Y1Dr"
      },
      "source": [
        "# Export Learner"
      ]
    },
    {
      "cell_type": "code",
      "metadata": {
        "ExecuteTime": {},
        "heading_collapsed": true,
        "hidden": true,
        "id": "n9gAuXuBY1Dr"
      },
      "source": [
        "learn.export()"
      ],
      "execution_count": null,
      "outputs": []
    },
    {
      "cell_type": "code",
      "metadata": {
        "ExecuteTime": {},
        "heading_collapsed": true,
        "hidden": true,
        "id": "ZXbKWwlOY1Dr"
      },
      "source": [
        "learn = load_learner(PATH)"
      ],
      "execution_count": null,
      "outputs": []
    },
    {
      "cell_type": "code",
      "metadata": {
        "ExecuteTime": {},
        "heading_collapsed": true,
        "hidden": true,
        "id": "1ou-HOjcY1Dr"
      },
      "source": [
        "img = open_image(PATH/'test/a03-014.png');\n",
        "img"
      ],
      "execution_count": null,
      "outputs": []
    },
    {
      "cell_type": "code",
      "metadata": {
        "ExecuteTime": {},
        "heading_collapsed": true,
        "hidden": true,
        "id": "ye9DOBMaY1Ds"
      },
      "source": [
        "res = learn.predict(img)[0]"
      ],
      "execution_count": null,
      "outputs": []
    },
    {
      "cell_type": "code",
      "metadata": {
        "ExecuteTime": {},
        "heading_collapsed": true,
        "hidden": true,
        "id": "KcGDi9h4Y1Ds"
      },
      "source": [
        "print(str(res))"
      ],
      "execution_count": null,
      "outputs": []
    }
  ]
}